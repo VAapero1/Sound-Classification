{
  "cells": [
    {
      "cell_type": "code",
      "execution_count": 1,
      "metadata": {
        "id": "Q92bM6A1CBzp"
      },
      "outputs": [],
      "source": [
        "import pandas as pd\n",
        "import librosa\n",
        "import numpy as np\n",
        "import matplotlib.pyplot as plt\n",
        "import librosa.display\n",
        "import torch\n",
        "import torch.nn as nn\n",
        "import torch.nn.functional as F\n",
        "import torch.optim as optim\n",
        "from torch.utils.data import Dataset, DataLoader\n",
        "from tqdm import tqdm_notebook as tqdm\n",
        "import os"
      ]
    },
    {
      "cell_type": "code",
      "execution_count": 2,
      "metadata": {
        "id": "xTN4-k9BCYQs"
      },
      "outputs": [],
      "source": [
        "df = pd.read_csv('/content/drive/MyDrive/esc50.csv')"
      ]
    },
    {
      "cell_type": "code",
      "execution_count": 4,
      "metadata": {
        "id": "qFP1hRNfCcEO"
      },
      "outputs": [],
      "source": [
        "train = df[df['fold']!=5]\n",
        "valid = df[df['fold']==5]"
      ]
    },
    {
      "cell_type": "code",
      "execution_count": 5,
      "metadata": {
        "colab": {
          "base_uri": "https://localhost:8080/"
        },
        "id": "agcy97orCeaO",
        "outputId": "eceb8b0f-e6b3-4f41-fa0b-9869074bbc60"
      },
      "outputs": [
        {
          "name": "stdout",
          "output_type": "stream",
          "text": [
            "Sampling rate of the audio is 44100 and length of the audio is 5.0 seconds\n"
          ]
        }
      ],
      "source": [
        "wav, sr = librosa.load('/content/drive/MyDrive/audio/1-100032-A-0.wav', sr=None)\n",
        "print(f'Sampling rate of the audio is {sr} and length of the audio is {len(wav)/sr} seconds')"
      ]
    },
    {
      "cell_type": "code",
      "execution_count": 6,
      "metadata": {
        "id": "cjLThSJNCfpI"
      },
      "outputs": [],
      "source": [
        "def spec_to_image(spec, eps=1e-6):\n",
        "  mean = spec.mean()\n",
        "  std = spec.std()\n",
        "  spec_norm = (spec - mean) / (std + eps)\n",
        "  spec_min, spec_max = spec_norm.min(), spec_norm.max()\n",
        "  spec_scaled = 255 * (spec_norm - spec_min) / (spec_max - spec_min)\n",
        "  spec_scaled = spec_scaled.astype(np.uint8)\n",
        "  return spec_scaled"
      ]
    },
    {
      "cell_type": "code",
      "execution_count": 7,
      "metadata": {
        "id": "X-wzVU6dCoCj"
      },
      "outputs": [],
      "source": [
        "def get_melspectrogram_db(file_path, sr=44100, n_fft=16384, hop_length=308, n_mels=256, fmin=20, fmax=17000, top_db=80, win_length=3969):\n",
        "  wav,sr = librosa.load(file_path,sr=sr)\n",
        "  if wav.shape[0]<5*sr:\n",
        "    wav=np.pad(wav,int(np.ceil((5*sr-wav.shape[0])/2)),mode='reflect')\n",
        "  else:\n",
        "    wav=wav[:5*sr]\n",
        "  spec=librosa.feature.melspectrogram(wav, sr=sr, n_fft=n_fft,\n",
        "              hop_length=hop_length,n_mels=n_mels,fmin=fmin,fmax=fmax, win_length=win_length)\n",
        "  spec_db=librosa.power_to_db(spec,top_db=top_db)\n",
        "  return spec_db"
      ]
    },
    {
      "cell_type": "code",
      "execution_count": 8,
      "metadata": {
        "id": "D0CZPyOlCrrv"
      },
      "outputs": [],
      "source": [
        "class Network(Dataset):\n",
        "  def __init__(self, base, df, in_col, out_col):\n",
        "    self.df = df\n",
        "    self.data = []\n",
        "    self.labels = []\n",
        "    self.c2i={}\n",
        "    self.i2c={}\n",
        "    self.categories = sorted(df[out_col].unique())\n",
        "    for i, category in enumerate(self.categories):\n",
        "      self.c2i[category]=i\n",
        "      self.i2c[i]=category\n",
        "    for ind in tqdm(range(len(df))):\n",
        "      row = df.iloc[ind]\n",
        "      file_path = os.path.join(base,row[in_col])\n",
        "      self.data.append(spec_to_image(get_melspectrogram_db(file_path))[np.newaxis,...])\n",
        "      self.labels.append(self.c2i[row['category']])\n",
        "  def __len__(self):\n",
        "    return len(self.data)\n",
        "  def __getitem__(self, idx):\n",
        "    return self.data[idx], self.labels[idx]"
      ]
    },
    {
      "cell_type": "code",
      "execution_count": 9,
      "metadata": {
        "colab": {
          "base_uri": "https://localhost:8080/",
          "height": 279
        },
        "id": "ZxKUjXhWCuiB",
        "outputId": "0ab19f4c-8d14-49b8-a6ad-24622932a4d2"
      },
      "outputs": [
        {
          "data": {
            "image/png": "[encoded data removed]",
            "text/plain": [
              "<Figure size 432x288 with 1 Axes>"
            ]
          },
          "metadata": {
            "needs_background": "light"
          },
          "output_type": "display_data"
        }
      ],
      "source": [
        "filename = valid[valid['category']=='clock_tick'].iloc[0]['filename']\n",
        "wav, sr = librosa.load('/content/drive/MyDrive/audio/'+filename, sr=None)\n",
        "librosa.display.waveplot(wav, sr);"
      ]
    },
    {
      "cell_type": "code",
      "execution_count": 10,
      "metadata": {
        "colab": {
          "base_uri": "https://localhost:8080/",
          "height": 252
        },
        "id": "uR3gw6q1CwBY",
        "outputId": "25f30ca2-dc06-46ab-85b0-28d593f54291"
      },
      "outputs": [
        {
          "data": {
            "image/png": "[encoded data removed]",
            "text/plain": [
              "<Figure size 432x288 with 1 Axes>"
            ]
          },
          "metadata": {},
          "output_type": "display_data"
        }
      ],
      "source": [
        "librosa.display.specshow(spec_to_image(get_melspectrogram_db('/content/drive/MyDrive/audio/'+filename, sr)));"
      ]
    },
    {
      "cell_type": "code",
      "execution_count": 11,
      "metadata": {
        "colab": {
          "base_uri": "https://localhost:8080/",
          "height": 101,
          "referenced_widgets": [
            "9055d48866884bb7b7b215a55435d1ce",
            "767c16929ee7427fadaf381a7759fcee",
            "1fad8ed21c034c4ead508bf806450b60",
            "ff063421e1b7481ba2e501639aefb9e6",
            "ca8dcd8154784bdb896a062733e6e0ae",
            "ccf33d7b59d74b4696b289bdf60cd21c",
            "a966185b3e7e4c9db9794451864261ce",
            "92fadb59680447d6b54952d7dd55952f",
            "66d9929cdf0d48438bc0009bb807b2ae",
            "91187c496da349aab3bba2b9395a6246",
            "aa5584c10d7641cf994f463a75b89923"
          ]
        },
        "id": "avQjkQS9CzRJ",
        "outputId": "b80f46ca-a271-438c-e59f-3a770217df37"
      },
      "outputs": [
        {
          "name": "stderr",
          "output_type": "stream",
          "text": [
            "<ipython-input-8-5750bf09c2cd>:12: TqdmDeprecationWarning: This function will be removed in tqdm==5.0.0\n",
            "Please use `tqdm.notebook.tqdm` instead of `tqdm.tqdm_notebook`\n",
            "  for ind in tqdm(range(len(df))):\n"
          ]
        },
        {
          "data": {
            "application/vnd.jupyter.widget-view+json": {
              "model_id": "9055d48866884bb7b7b215a55435d1ce",
              "version_major": 2,
              "version_minor": 0
            },
            "text/plain": [
              "  0%|          | 0/1600 [00:00<?, ?it/s]"
            ]
          },
          "metadata": {},
          "output_type": "display_data"
        }
      ],
      "source": [
        "train_data = Network('/content/drive/MyDrive/audio/', train, 'filename', 'category')"
      ]
    },
    {
      "cell_type": "code",
      "execution_count": 12,
      "metadata": {
        "colab": {
          "base_uri": "https://localhost:8080/",
          "height": 101,
          "referenced_widgets": [
            "6a3296b36e084d6eb8c578b352c37be2",
            "47b683fd2f3247f4861733a553ec1341",
            "9d422b544c444720b40cf7fd7e721631",
            "fa72588a7bfe4973bde9dc245deafea0",
            "9ca2edddaae64bfdb4388b5ebc337c17",
            "6203f37ba71f4b89805055c2e0074717",
            "692463c37fa7498b93f68ec30d161bbb",
            "509bd2b65f914867bf7dc085c92690a5",
            "ae5d9982083748bcbfd2c42225122bc6",
            "29d4d506db474b709c994c2a2310da1b",
            "9565ef752ee5413788c6f8d4f4e43cea"
          ]
        },
        "id": "uhibFtOoC3sQ",
        "outputId": "35874e98-ecdd-4c79-feda-3f353d43a01e"
      },
      "outputs": [
        {
          "name": "stderr",
          "output_type": "stream",
          "text": [
            "<ipython-input-8-5750bf09c2cd>:12: TqdmDeprecationWarning: This function will be removed in tqdm==5.0.0\n",
            "Please use `tqdm.notebook.tqdm` instead of `tqdm.tqdm_notebook`\n",
            "  for ind in tqdm(range(len(df))):\n"
          ]
        },
        {
          "data": {
            "application/vnd.jupyter.widget-view+json": {
              "model_id": "6a3296b36e084d6eb8c578b352c37be2",
              "version_major": 2,
              "version_minor": 0
            },
            "text/plain": [
              "  0%|          | 0/400 [00:00<?, ?it/s]"
            ]
          },
          "metadata": {},
          "output_type": "display_data"
        }
      ],
      "source": [
        "valid_data = Network('/content/drive/MyDrive/audio/', valid, 'filename', 'category')"
      ]
    },
    {
      "cell_type": "code",
      "execution_count": 13,
      "metadata": {
        "id": "Nb0_2oM7C8IJ"
      },
      "outputs": [],
      "source": [
        "train_loader = DataLoader(train_data, batch_size=64, shuffle=True)\n",
        "valid_loader = DataLoader(valid_data, batch_size=64, shuffle=True)"
      ]
    },
    {
      "cell_type": "code",
      "execution_count": 14,
      "metadata": {
        "id": "YZ-v_L5_C9kj"
      },
      "outputs": [],
      "source": [
        "if torch.cuda.is_available():\n",
        "  device=torch.device('cuda:0')\n",
        "else:\n",
        "  device=torch.device('cpu')"
      ]
    },
    {
      "cell_type": "code",
      "execution_count": null,
      "metadata": {
        "id": "9ju4tRo5C-qE"
      },
      "outputs": [],
      "source": [
        "from torchvision.models import resnet18\n",
        "cnn = resnet18(pretrained=True)\n",
        "cnn.fc = nn.Linear(512,50)\n",
        "cnn.conv1 = nn.Conv2d(1, 64, kernel_size=(7, 7), stride=(2, 2), padding=(3, 3), bias=False)\n",
        "cnn = cnn.to(device)"
      ]
    },
    {
      "cell_type": "code",
      "execution_count": 17,
      "metadata": {
        "id": "SzkqPG9oC_yE"
      },
      "outputs": [],
      "source": [
        "from torch import nn\n",
        "from torchsummary import summary"
      ]
    },
    {
      "cell_type": "code",
      "execution_count": null,
      "metadata": {
        "colab": {
          "background_save": true
        },
        "id": "DXUBcAK7DBQB",
        "outputId": "49a10c42-335a-43d6-e50f-1ae1d7d39ebe"
      },
      "outputs": [
        {
          "name": "stdout",
          "output_type": "stream",
          "text": [
            "----------------------------------------------------------------\n",
            "        Layer (type)               Output Shape         Param #\n",
            "================================================================\n",
            "            Conv2d-1           [-1, 64, 32, 22]           3,136\n",
            "       BatchNorm2d-2           [-1, 64, 32, 22]             128\n",
            "              ReLU-3           [-1, 64, 32, 22]               0\n",
            "         MaxPool2d-4           [-1, 64, 16, 11]               0\n",
            "            Conv2d-5           [-1, 64, 16, 11]          36,864\n",
            "       BatchNorm2d-6           [-1, 64, 16, 11]             128\n",
            "              ReLU-7           [-1, 64, 16, 11]               0\n",
            "            Conv2d-8           [-1, 64, 16, 11]          36,864\n",
            "       BatchNorm2d-9           [-1, 64, 16, 11]             128\n",
            "             ReLU-10           [-1, 64, 16, 11]               0\n",
            "       BasicBlock-11           [-1, 64, 16, 11]               0\n",
            "           Conv2d-12           [-1, 64, 16, 11]          36,864\n",
            "      BatchNorm2d-13           [-1, 64, 16, 11]             128\n",
            "             ReLU-14           [-1, 64, 16, 11]               0\n",
            "           Conv2d-15           [-1, 64, 16, 11]          36,864\n",
            "      BatchNorm2d-16           [-1, 64, 16, 11]             128\n",
            "             ReLU-17           [-1, 64, 16, 11]               0\n",
            "       BasicBlock-18           [-1, 64, 16, 11]               0\n",
            "           Conv2d-19            [-1, 128, 8, 6]          73,728\n",
            "      BatchNorm2d-20            [-1, 128, 8, 6]             256\n",
            "             ReLU-21            [-1, 128, 8, 6]               0\n",
            "           Conv2d-22            [-1, 128, 8, 6]         147,456\n",
            "      BatchNorm2d-23            [-1, 128, 8, 6]             256\n",
            "           Conv2d-24            [-1, 128, 8, 6]           8,192\n",
            "      BatchNorm2d-25            [-1, 128, 8, 6]             256\n",
            "             ReLU-26            [-1, 128, 8, 6]               0\n",
            "       BasicBlock-27            [-1, 128, 8, 6]               0\n",
            "           Conv2d-28            [-1, 128, 8, 6]         147,456\n",
            "      BatchNorm2d-29            [-1, 128, 8, 6]             256\n",
            "             ReLU-30            [-1, 128, 8, 6]               0\n",
            "           Conv2d-31            [-1, 128, 8, 6]         147,456\n",
            "      BatchNorm2d-32            [-1, 128, 8, 6]             256\n",
            "             ReLU-33            [-1, 128, 8, 6]               0\n",
            "       BasicBlock-34            [-1, 128, 8, 6]               0\n",
            "           Conv2d-35            [-1, 256, 4, 3]         294,912\n",
            "      BatchNorm2d-36            [-1, 256, 4, 3]             512\n",
            "             ReLU-37            [-1, 256, 4, 3]               0\n",
            "           Conv2d-38            [-1, 256, 4, 3]         589,824\n",
            "      BatchNorm2d-39            [-1, 256, 4, 3]             512\n",
            "           Conv2d-40            [-1, 256, 4, 3]          32,768\n",
            "      BatchNorm2d-41            [-1, 256, 4, 3]             512\n",
            "             ReLU-42            [-1, 256, 4, 3]               0\n",
            "       BasicBlock-43            [-1, 256, 4, 3]               0\n",
            "           Conv2d-44            [-1, 256, 4, 3]         589,824\n",
            "      BatchNorm2d-45            [-1, 256, 4, 3]             512\n",
            "             ReLU-46            [-1, 256, 4, 3]               0\n",
            "           Conv2d-47            [-1, 256, 4, 3]         589,824\n",
            "      BatchNorm2d-48            [-1, 256, 4, 3]             512\n",
            "             ReLU-49            [-1, 256, 4, 3]               0\n",
            "       BasicBlock-50            [-1, 256, 4, 3]               0\n",
            "           Conv2d-51            [-1, 512, 2, 2]       1,179,648\n",
            "      BatchNorm2d-52            [-1, 512, 2, 2]           1,024\n",
            "             ReLU-53            [-1, 512, 2, 2]               0\n",
            "           Conv2d-54            [-1, 512, 2, 2]       2,359,296\n",
            "      BatchNorm2d-55            [-1, 512, 2, 2]           1,024\n",
            "           Conv2d-56            [-1, 512, 2, 2]         131,072\n",
            "      BatchNorm2d-57            [-1, 512, 2, 2]           1,024\n",
            "             ReLU-58            [-1, 512, 2, 2]               0\n",
            "       BasicBlock-59            [-1, 512, 2, 2]               0\n",
            "           Conv2d-60            [-1, 512, 2, 2]       2,359,296\n",
            "      BatchNorm2d-61            [-1, 512, 2, 2]           1,024\n",
            "             ReLU-62            [-1, 512, 2, 2]               0\n",
            "           Conv2d-63            [-1, 512, 2, 2]       2,359,296\n",
            "      BatchNorm2d-64            [-1, 512, 2, 2]           1,024\n",
            "             ReLU-65            [-1, 512, 2, 2]               0\n",
            "       BasicBlock-66            [-1, 512, 2, 2]               0\n",
            "AdaptiveAvgPool2d-67            [-1, 512, 1, 1]               0\n",
            "           Linear-68                   [-1, 50]          25,650\n",
            "================================================================\n",
            "Total params: 11,195,890\n",
            "Trainable params: 11,195,890\n",
            "Non-trainable params: 0\n",
            "----------------------------------------------------------------\n",
            "Input size (MB): 0.01\n",
            "Forward/backward pass size (MB): 3.70\n",
            "Params size (MB): 42.71\n",
            "Estimated Total Size (MB): 46.42\n",
            "----------------------------------------------------------------\n"
          ]
        }
      ],
      "source": [
        "summary(cnn, (1, 64, 44))"
      ]
    },
    {
      "cell_type": "code",
      "execution_count": null,
      "metadata": {
        "id": "JVK1V7fWDCRS"
      },
      "outputs": [],
      "source": [
        "def setlr(optimizer, lr):\n",
        "  for param_group in optimizer.param_groups:\n",
        "    param_group['lr'] = lr\n",
        "  return optimizer"
      ]
    },
    {
      "cell_type": "code",
      "execution_count": null,
      "metadata": {
        "id": "tosuYntGDDiy"
      },
      "outputs": [],
      "source": [
        "def train(cnn, loss_fn, train_loader, valid_loader, epochs, optimizer, train_losses, valid_losses, change_lr=None):\n",
        "  for epoch in tqdm(range(1,epochs+1)):\n",
        "    cnn.train()\n",
        "    batch_losses=[]\n",
        "    if change_lr:\n",
        "      optimizer = change_lr(optimizer, epoch)\n",
        "    for i, data in enumerate(train_loader):\n",
        "      x, y = data\n",
        "      optimizer.zero_grad()\n",
        "      x = x.to(device, dtype=torch.float32)\n",
        "      y = y.to(device, dtype=torch.long)\n",
        "      y_hat = cnn(x)\n",
        "      loss = loss_fn(y_hat, y)\n",
        "      loss.backward()\n",
        "      batch_losses.append(loss.item())\n",
        "      optimizer.step()\n",
        "    train_losses.append(batch_losses)\n",
        "    print(f'Epoch - {epoch} Train-Loss : {np.mean(train_losses[-1])}')\n",
        "    cnn.eval()\n",
        "    batch_losses=[]\n",
        "    trace_y = []\n",
        "    trace_yhat = []\n",
        "    for i, data in enumerate(valid_loader):\n",
        "      x, y = data\n",
        "      x = x.to(device, dtype=torch.float32)\n",
        "      y = y.to(device, dtype=torch.long)\n",
        "      y_hat = cnn(x)\n",
        "      loss = loss_fn(y_hat, y)\n",
        "      trace_y.append(y.cpu().detach().numpy())\n",
        "      trace_yhat.append(y_hat.cpu().detach().numpy())      \n",
        "      batch_losses.append(loss.item())\n",
        "    valid_losses.append(batch_losses)\n",
        "    trace_y = np.concatenate(trace_y)\n",
        "    trace_yhat = np.concatenate(trace_yhat)\n",
        "    accuracy = np.mean(trace_yhat.argmax(axis=1)==trace_y)\n",
        "    print(f'Epoch - {epoch} Valid-Loss : {np.mean(valid_losses[-1])} Valid-Accuracy : {accuracy}')"
      ]
    },
    {
      "cell_type": "code",
      "execution_count": null,
      "metadata": {
        "colab": {
          "base_uri": "https://localhost:8080/",
          "height": 1000,
          "referenced_widgets": [
            "d6e16bf93d9a417dbe811180b962cf4a"
          ]
        },
        "id": "s8uafwXzDEyQ",
        "outputId": "144147bd-4d57-4411-edbb-8c1dfb898845"
      },
      "outputs": [
        {
          "name": "stderr",
          "output_type": "stream",
          "text": [
            "<ipython-input-20-c98c6ed40a40>:2: TqdmDeprecationWarning: This function will be removed in tqdm==5.0.0\n",
            "Please use `tqdm.notebook.tqdm` instead of `tqdm.tqdm_notebook`\n",
            "  for epoch in tqdm(range(1,epochs+1)):\n"
          ]
        },
        {
          "data": {
            "application/vnd.jupyter.widget-view+json": {
              "model_id": "d6e16bf93d9a417dbe811180b962cf4a",
              "version_major": 2,
              "version_minor": 0
            },
            "text/plain": [
              "  0%|          | 0/80 [00:00<?, ?it/s]"
            ]
          },
          "metadata": {},
          "output_type": "display_data"
        },
        {
          "name": "stdout",
          "output_type": "stream",
          "text": [
            "Epoch - 1 Train-Loss : 2.7716290092468263\n",
            "Epoch - 1 Valid-Loss : 2.0555834429604665 Valid-Accuracy : 0.485\n",
            "Epoch - 2 Train-Loss : 1.3107648038864135\n",
            "Epoch - 2 Valid-Loss : 1.410842674119132 Valid-Accuracy : 0.63\n",
            "Epoch - 3 Train-Loss : 0.7491533017158508\n",
            "Epoch - 3 Valid-Loss : 1.2480051517486572 Valid-Accuracy : 0.69\n",
            "Epoch - 4 Train-Loss : 0.431603387594223\n",
            "Epoch - 4 Valid-Loss : 1.0400228670665197 Valid-Accuracy : 0.74\n",
            "Epoch - 5 Train-Loss : 0.24175708293914794\n",
            "Epoch - 5 Valid-Loss : 1.0343584247997828 Valid-Accuracy : 0.7475\n",
            "Epoch - 6 Train-Loss : 0.14286508589982985\n",
            "Epoch - 6 Valid-Loss : 0.9184334789003644 Valid-Accuracy : 0.7725\n",
            "Epoch - 7 Train-Loss : 0.08369985669851303\n",
            "Epoch - 7 Valid-Loss : 0.8777267251695905 Valid-Accuracy : 0.765\n",
            "Epoch - 8 Train-Loss : 0.06369202613830566\n",
            "Epoch - 8 Valid-Loss : 0.8300492252622332 Valid-Accuracy : 0.7725\n",
            "Epoch - 9 Train-Loss : 0.055255150943994524\n",
            "Epoch - 9 Valid-Loss : 0.8298800076757159 Valid-Accuracy : 0.775\n",
            "Changed learning rate to 2e-05\n",
            "Epoch - 10 Train-Loss : 0.039669671431183814\n",
            "Epoch - 10 Valid-Loss : 0.7021123256002154 Valid-Accuracy : 0.8025\n",
            "Epoch - 11 Train-Loss : 0.02710216484963894\n",
            "Epoch - 11 Valid-Loss : 0.723604427916663 Valid-Accuracy : 0.795\n",
            "Epoch - 12 Train-Loss : 0.02315974038094282\n",
            "Epoch - 12 Valid-Loss : 0.7164769683565412 Valid-Accuracy : 0.7975\n",
            "Epoch - 13 Train-Loss : 0.021945832893252373\n",
            "Epoch - 13 Valid-Loss : 0.7473295714173999 Valid-Accuracy : 0.8\n",
            "Epoch - 14 Train-Loss : 0.02044844962656498\n",
            "Epoch - 14 Valid-Loss : 0.7007603006703513 Valid-Accuracy : 0.79\n",
            "Epoch - 15 Train-Loss : 0.020923234857618808\n",
            "Epoch - 15 Valid-Loss : 0.7098503538540432 Valid-Accuracy : 0.795\n",
            "Epoch - 16 Train-Loss : 0.018531692884862422\n",
            "Epoch - 16 Valid-Loss : 0.7175289222172329 Valid-Accuracy : 0.7925\n",
            "Epoch - 17 Train-Loss : 0.01841661151498556\n",
            "Epoch - 17 Valid-Loss : 0.7606657317706517 Valid-Accuracy : 0.8\n",
            "Epoch - 18 Train-Loss : 0.016923850513994695\n",
            "Epoch - 18 Valid-Loss : 0.8044522830418178 Valid-Accuracy : 0.795\n",
            "Epoch - 19 Train-Loss : 0.017945192977786063\n",
            "Epoch - 19 Valid-Loss : 0.6890027182442802 Valid-Accuracy : 0.795\n",
            "Changed learning rate to 2e-06\n",
            "Epoch - 20 Train-Loss : 0.017424643225967883\n",
            "Epoch - 20 Valid-Loss : 0.7056869523865836 Valid-Accuracy : 0.7975\n",
            "Epoch - 21 Train-Loss : 0.017068362571299078\n",
            "Epoch - 21 Valid-Loss : 0.7463498796735492 Valid-Accuracy : 0.7925\n",
            "Epoch - 22 Train-Loss : 0.017889631725847722\n",
            "Epoch - 22 Valid-Loss : 0.7216133305004665 Valid-Accuracy : 0.7925\n",
            "Epoch - 23 Train-Loss : 0.0171605059877038\n",
            "Epoch - 23 Valid-Loss : 0.6726590948445457 Valid-Accuracy : 0.7925\n",
            "Epoch - 24 Train-Loss : 0.016507476717233658\n",
            "Epoch - 24 Valid-Loss : 0.6878093310764858 Valid-Accuracy : 0.795\n",
            "Epoch - 25 Train-Loss : 0.015539882406592369\n",
            "Epoch - 25 Valid-Loss : 0.6556493256773267 Valid-Accuracy : 0.7975\n",
            "Epoch - 26 Train-Loss : 0.015311953090131282\n",
            "Epoch - 26 Valid-Loss : 0.676899505513055 Valid-Accuracy : 0.79\n",
            "Epoch - 27 Train-Loss : 0.015518836751580238\n",
            "Epoch - 27 Valid-Loss : 0.692367604800633 Valid-Accuracy : 0.79\n",
            "Epoch - 28 Train-Loss : 0.01583578683435917\n",
            "Epoch - 28 Valid-Loss : 0.7521805252347674 Valid-Accuracy : 0.7925\n",
            "Epoch - 29 Train-Loss : 0.01585291273891926\n",
            "Epoch - 29 Valid-Loss : 0.6913350905690875 Valid-Accuracy : 0.795\n",
            "Changed learning rate to 2.0000000000000002e-07\n",
            "Epoch - 30 Train-Loss : 0.01593442913144827\n",
            "Epoch - 30 Valid-Loss : 0.7110699585505894 Valid-Accuracy : 0.795\n",
            "Epoch - 31 Train-Loss : 0.01537105143070221\n",
            "Epoch - 31 Valid-Loss : 0.7086026498249599 Valid-Accuracy : 0.7925\n",
            "Epoch - 32 Train-Loss : 0.015639357194304468\n",
            "Epoch - 32 Valid-Loss : 0.7007809366498675 Valid-Accuracy : 0.795\n",
            "Epoch - 33 Train-Loss : 0.014944124668836593\n",
            "Epoch - 33 Valid-Loss : 0.7074460642678397 Valid-Accuracy : 0.7925\n",
            "Epoch - 34 Train-Loss : 0.015739143230021\n",
            "Epoch - 34 Valid-Loss : 0.7549040147236415 Valid-Accuracy : 0.7975\n",
            "Epoch - 35 Train-Loss : 0.01586619805544615\n",
            "Epoch - 35 Valid-Loss : 0.7037870969091143 Valid-Accuracy : 0.8\n",
            "Epoch - 36 Train-Loss : 0.015318965017795562\n",
            "Epoch - 36 Valid-Loss : 0.7304104566574097 Valid-Accuracy : 0.8\n",
            "Epoch - 37 Train-Loss : 0.015689624547958372\n",
            "Epoch - 37 Valid-Loss : 0.7247340040547507 Valid-Accuracy : 0.7975\n",
            "Epoch - 38 Train-Loss : 0.017022592574357988\n",
            "Epoch - 38 Valid-Loss : 0.6947489210537502 Valid-Accuracy : 0.7925\n",
            "Epoch - 39 Train-Loss : 0.015525286868214607\n",
            "Epoch - 39 Valid-Loss : 0.7522243431636265 Valid-Accuracy : 0.795\n",
            "Changed learning rate to 2e-08\n",
            "Epoch - 40 Train-Loss : 0.015877248607575892\n",
            "Epoch - 40 Valid-Loss : 0.7374478195394788 Valid-Accuracy : 0.795\n",
            "Epoch - 41 Train-Loss : 0.016474256291985512\n",
            "Epoch - 41 Valid-Loss : 0.6608299570424216 Valid-Accuracy : 0.795\n",
            "Epoch - 42 Train-Loss : 0.016017111577093603\n",
            "Epoch - 42 Valid-Loss : 0.697132979120527 Valid-Accuracy : 0.795\n",
            "Epoch - 43 Train-Loss : 0.016235607601702215\n",
            "Epoch - 43 Valid-Loss : 0.7387777396610805 Valid-Accuracy : 0.7925\n",
            "Epoch - 44 Train-Loss : 0.01611347306519747\n",
            "Epoch - 44 Valid-Loss : 0.7169845529964992 Valid-Accuracy : 0.7925\n",
            "Epoch - 45 Train-Loss : 0.01701035048812628\n",
            "Epoch - 45 Valid-Loss : 0.719703904220036 Valid-Accuracy : 0.795\n",
            "Epoch - 46 Train-Loss : 0.015812100619077684\n",
            "Epoch - 46 Valid-Loss : 0.7279230526515416 Valid-Accuracy : 0.7925\n",
            "Epoch - 47 Train-Loss : 0.01646957766264677\n",
            "Epoch - 47 Valid-Loss : 0.6926512462752206 Valid-Accuracy : 0.7925\n",
            "Epoch - 48 Train-Loss : 0.01607105351984501\n",
            "Epoch - 48 Valid-Loss : 0.6847360474722726 Valid-Accuracy : 0.795\n",
            "Epoch - 49 Train-Loss : 0.015580351613461971\n",
            "Epoch - 49 Valid-Loss : 0.6580215351922172 Valid-Accuracy : 0.7925\n",
            "Changed learning rate to 2e-09\n",
            "Epoch - 50 Train-Loss : 0.017332220412790776\n",
            "Epoch - 50 Valid-Loss : 0.6558752017361777 Valid-Accuracy : 0.795\n",
            "Epoch - 51 Train-Loss : 0.01653298396617174\n",
            "Epoch - 51 Valid-Loss : 0.6926360896655491 Valid-Accuracy : 0.795\n",
            "Epoch - 52 Train-Loss : 0.016472397856414318\n",
            "Epoch - 52 Valid-Loss : 0.7378891961915153 Valid-Accuracy : 0.795\n",
            "Epoch - 53 Train-Loss : 0.015214061327278615\n",
            "Epoch - 53 Valid-Loss : 0.6860763771193368 Valid-Accuracy : 0.7925\n",
            "Epoch - 54 Train-Loss : 0.01497718445956707\n",
            "Epoch - 54 Valid-Loss : 0.6675976174218314 Valid-Accuracy : 0.8\n",
            "Epoch - 55 Train-Loss : 0.01660994976758957\n",
            "Epoch - 55 Valid-Loss : 0.6709943498883929 Valid-Accuracy : 0.7925\n",
            "Epoch - 56 Train-Loss : 0.015032923594117165\n",
            "Epoch - 56 Valid-Loss : 0.6734423765114376 Valid-Accuracy : 0.795\n",
            "Epoch - 57 Train-Loss : 0.016102186143398284\n",
            "Epoch - 57 Valid-Loss : 0.6830842835562569 Valid-Accuracy : 0.7925\n",
            "Epoch - 58 Train-Loss : 0.015573405884206295\n",
            "Epoch - 58 Valid-Loss : 0.6961020060947963 Valid-Accuracy : 0.795\n",
            "Epoch - 59 Train-Loss : 0.016446958780288696\n",
            "Epoch - 59 Valid-Loss : 0.7320688877786908 Valid-Accuracy : 0.8025\n",
            "Changed learning rate to 2e-10\n",
            "Epoch - 60 Train-Loss : 0.015242682620882988\n",
            "Epoch - 60 Valid-Loss : 0.6874648417745318 Valid-Accuracy : 0.795\n",
            "Epoch - 61 Train-Loss : 0.015913824439048766\n",
            "Epoch - 61 Valid-Loss : 0.7465841940471104 Valid-Accuracy : 0.7925\n",
            "Epoch - 62 Train-Loss : 0.017952056862413884\n",
            "Epoch - 62 Valid-Loss : 0.732495129108429 Valid-Accuracy : 0.795\n",
            "Epoch - 63 Train-Loss : 0.016223829053342343\n",
            "Epoch - 63 Valid-Loss : 0.6892961519105094 Valid-Accuracy : 0.795\n",
            "Epoch - 64 Train-Loss : 0.01523306392133236\n",
            "Epoch - 64 Valid-Loss : 0.6742690461022514 Valid-Accuracy : 0.7975\n",
            "Epoch - 65 Train-Loss : 0.01604949403554201\n",
            "Epoch - 65 Valid-Loss : 0.696379372051784 Valid-Accuracy : 0.8\n",
            "Epoch - 66 Train-Loss : 0.016428764909505844\n",
            "Epoch - 66 Valid-Loss : 0.7338180456842694 Valid-Accuracy : 0.7925\n",
            "Epoch - 67 Train-Loss : 0.016232939995825292\n",
            "Epoch - 67 Valid-Loss : 0.6821686582905906 Valid-Accuracy : 0.7975\n",
            "Epoch - 68 Train-Loss : 0.015470269657671452\n",
            "Epoch - 68 Valid-Loss : 0.7088228932448796 Valid-Accuracy : 0.795\n",
            "Epoch - 69 Train-Loss : 0.01688733760267496\n",
            "Epoch - 69 Valid-Loss : 0.7111194389207023 Valid-Accuracy : 0.795\n",
            "Changed learning rate to 2.0000000000000002e-11\n",
            "Epoch - 70 Train-Loss : 0.016684147007763387\n",
            "Epoch - 70 Valid-Loss : 0.7107334094388145 Valid-Accuracy : 0.7975\n",
            "Epoch - 71 Train-Loss : 0.01609463054686785\n",
            "Epoch - 71 Valid-Loss : 0.6786689375128064 Valid-Accuracy : 0.7975\n",
            "Epoch - 72 Train-Loss : 0.01552124299108982\n",
            "Epoch - 72 Valid-Loss : 0.6628743708133698 Valid-Accuracy : 0.795\n",
            "Epoch - 73 Train-Loss : 0.015778633952140807\n",
            "Epoch - 73 Valid-Loss : 0.6890633872577122 Valid-Accuracy : 0.795\n",
            "Epoch - 74 Train-Loss : 0.016568125411868095\n",
            "Epoch - 74 Valid-Loss : 0.709682856287275 Valid-Accuracy : 0.7925\n",
            "Epoch - 75 Train-Loss : 0.016961929313838484\n",
            "Epoch - 75 Valid-Loss : 0.7064988272530692 Valid-Accuracy : 0.8\n",
            "Epoch - 76 Train-Loss : 0.016687221191823483\n",
            "Epoch - 76 Valid-Loss : 0.702974694115775 Valid-Accuracy : 0.7925\n",
            "Epoch - 77 Train-Loss : 0.016207081712782383\n",
            "Epoch - 77 Valid-Loss : 0.6792803577014378 Valid-Accuracy : 0.795\n",
            "Epoch - 78 Train-Loss : 0.017540694549679756\n",
            "Epoch - 78 Valid-Loss : 0.7522926330566406 Valid-Accuracy : 0.7925\n",
            "Epoch - 79 Train-Loss : 0.016692211255431175\n",
            "Epoch - 79 Valid-Loss : 0.7270687052181789 Valid-Accuracy : 0.7925\n",
            "Changed learning rate to 2e-12\n",
            "Epoch - 80 Train-Loss : 0.015734635330736636\n",
            "Epoch - 80 Valid-Loss : 0.7502006803240094 Valid-Accuracy : 0.795\n"
          ]
        }
      ],
      "source": [
        "learning_rate = 2e-4\n",
        "optimizer = optim.Adam(cnn.parameters(), lr=learning_rate)\n",
        "epochs = 80\n",
        "loss_fn = nn.CrossEntropyLoss()\n",
        "cnn_train_losses=[]\n",
        "cnn_valid_losses=[]\n",
        "def lr_decay(optimizer, epoch):\n",
        "  if epoch%10==0:\n",
        "    new_lr = learning_rate / (10**(epoch//10))\n",
        "    optimizer = setlr(optimizer, new_lr)\n",
        "    print(f'Changed learning rate to {new_lr}')\n",
        "  return optimizer\n",
        "train(cnn, loss_fn, train_loader, valid_loader, epochs, optimizer, cnn_train_losses, cnn_valid_losses, lr_decay)"
      ]
    },
    {
      "cell_type": "code",
      "execution_count": null,
      "metadata": {
        "colab": {
          "base_uri": "https://localhost:8080/",
          "height": 391
        },
        "id": "dx1BOCNlD59v",
        "outputId": "c6113d0e-9004-4cdf-9907-820c8b80fd41"
      },
      "outputs": [
        {
          "data": {
            "text/plain": [
              "<matplotlib.legend.Legend at 0x7f39363d26d0>"
            ]
          },
          "execution_count": 22,
          "metadata": {},
          "output_type": "execute_result"
        },
        {
          "data": {
            "image/png": "[encoded data removed]",
            "text/plain": [
              "<Figure size 864x432 with 2 Axes>"
            ]
          },
          "metadata": {},
          "output_type": "display_data"
        }
      ],
      "source": [
        "tl = np.asarray(cnn_train_losses).ravel()\n",
        "vl = np.asarray(cnn_valid_losses).ravel()\n",
        "plt.figure(figsize=(12,6))\n",
        "plt.subplot(1,2,1)\n",
        "plt.plot(tl)\n",
        "plt.legend(['Train Loss'])\n",
        "plt.subplot(1,2,2)\n",
        "plt.plot(vl,'orange')\n",
        "plt.legend(['Valid Loss'])"
      ]
    },
    {
      "cell_type": "code",
      "execution_count": null,
      "metadata": {
        "id": "TCHdwhrASILZ"
      },
      "outputs": [],
      "source": [
        "# Best result - 0.8025"
      ]
    },
    {
      "cell_type": "code",
      "execution_count": null,
      "metadata": {
        "id": "6VJc3X7GnVyy"
      },
      "outputs": [],
      "source": [
        "with open('esc50resnet18.pth','wb') as f:\n",
        "  torch.save(cnn, f)"
      ]
    },
    {
      "cell_type": "code",
      "execution_count": null,
      "metadata": {
        "id": "nHkEzbAja34F"
      },
      "outputs": [],
      "source": [
        "import pickle\n",
        "with open('indtocat.pkl','wb') as f:\n",
        "  pickle.dump(train_data.i2c, f)"
      ]
    },
    {
      "cell_type": "code",
      "execution_count": null,
      "metadata": {
        "id": "4k2nxmDfa6-O"
      },
      "outputs": [],
      "source": [
        "import IPython\n",
        "with open('indtocat.pkl','rb') as f:\n",
        "  indtocat = pickle.load(f)\n",
        "filename='/content/pipi.wav'\n",
        "spec=spec_to_image(get_melspectrogram_db(filename))\n",
        "spec_t=torch.tensor(spec).to(device, dtype=torch.float32)\n",
        "pr=cnn.forward(spec_t.reshape(1,1,*spec_t.shape))\n",
        "ind = pr.argmax(dim=1).cpu().detach().numpy().ravel()[0]\n",
        "print(indtocat[ind])\n",
        "IPython.display.display(IPython.display.Audio(filename=filename))"
      ]
    },
    {
      "cell_type": "code",
      "execution_count": 15,
      "metadata": {
        "colab": {
          "base_uri": "https://localhost:8080/",
          "height": 156,
          "referenced_widgets": [
            "d53b0db283a343e8bdff7aafdd9e7a93",
            "aaeefebdd3554695830cc5c6671e7eaf",
            "6feab2458bac4523922725243e9958c9",
            "0f04ce0432a147469d9e545bfba200fa",
            "ef5c385b5ab3441a97c261d18a326ef6",
            "8d0978a8057c439aad71a8f851f5a03b",
            "ed52b26ec18d42f787c690ca1dd343d4",
            "c138f5d85e3640d690bf99ea6131ff88",
            "b82cb9f075404e0585dcc6c43aa47cee",
            "1fb195cdf4514b1f832dd854f087f480",
            "f3842c04c968430db2f2517584eafbaf"
          ]
        },
        "id": "RJfgSUQlrNte",
        "outputId": "c3103e87-dcac-4d3b-ff5b-ebea0466f95c"
      },
      "outputs": [
        {
          "name": "stderr",
          "output_type": "stream",
          "text": [
            "/usr/local/lib/python3.8/dist-packages/torchvision/models/_utils.py:208: UserWarning: The parameter 'pretrained' is deprecated since 0.13 and will be removed in 0.15, please use 'weights' instead.\n",
            "  warnings.warn(\n",
            "/usr/local/lib/python3.8/dist-packages/torchvision/models/_utils.py:223: UserWarning: Arguments other than a weight enum or `None` for 'weights' are deprecated since 0.13 and will be removed in 0.15. The current behavior is equivalent to passing `weights=ResNet50_Weights.IMAGENET1K_V1`. You can also use `weights=ResNet50_Weights.DEFAULT` to get the most up-to-date weights.\n",
            "  warnings.warn(msg)\n",
            "Downloading: \"https://download.pytorch.org/models/resnet50-0676ba61.pth\" to /root/.cache/torch/hub/checkpoints/resnet50-0676ba61.pth\n"
          ]
        },
        {
          "data": {
            "application/vnd.jupyter.widget-view+json": {
              "model_id": "d53b0db283a343e8bdff7aafdd9e7a93",
              "version_major": 2,
              "version_minor": 0
            },
            "text/plain": [
              "  0%|          | 0.00/97.8M [00:00<?, ?B/s]"
            ]
          },
          "metadata": {},
          "output_type": "display_data"
        }
      ],
      "source": [
        "from torchvision.models import resnet50\n",
        "resnet_model = resnet50(pretrained=True)\n",
        "resnet_model.conv1 = nn.Conv2d(1, 64, kernel_size=(7, 7), stride=(2, 2), padding=(3, 3), bias=False)\n",
        "resnet_model.fc = nn.Linear(in_features=2048, out_features=50, bias=True)\n",
        "resnet_model = resnet_model.to(device)"
      ]
    },
    {
      "cell_type": "code",
      "execution_count": 18,
      "metadata": {
        "colab": {
          "base_uri": "https://localhost:8080/"
        },
        "id": "Z2sAkF9FgdeP",
        "outputId": "94158c19-688b-4fb8-93dc-17b9daa96b45"
      },
      "outputs": [
        {
          "name": "stdout",
          "output_type": "stream",
          "text": [
            "----------------------------------------------------------------\n",
            "        Layer (type)               Output Shape         Param #\n",
            "================================================================\n",
            "            Conv2d-1           [-1, 64, 32, 22]           3,136\n",
            "       BatchNorm2d-2           [-1, 64, 32, 22]             128\n",
            "              ReLU-3           [-1, 64, 32, 22]               0\n",
            "         MaxPool2d-4           [-1, 64, 16, 11]               0\n",
            "            Conv2d-5           [-1, 64, 16, 11]           4,096\n",
            "       BatchNorm2d-6           [-1, 64, 16, 11]             128\n",
            "              ReLU-7           [-1, 64, 16, 11]               0\n",
            "            Conv2d-8           [-1, 64, 16, 11]          36,864\n",
            "       BatchNorm2d-9           [-1, 64, 16, 11]             128\n",
            "             ReLU-10           [-1, 64, 16, 11]               0\n",
            "           Conv2d-11          [-1, 256, 16, 11]          16,384\n",
            "      BatchNorm2d-12          [-1, 256, 16, 11]             512\n",
            "           Conv2d-13          [-1, 256, 16, 11]          16,384\n",
            "      BatchNorm2d-14          [-1, 256, 16, 11]             512\n",
            "             ReLU-15          [-1, 256, 16, 11]               0\n",
            "       Bottleneck-16          [-1, 256, 16, 11]               0\n",
            "           Conv2d-17           [-1, 64, 16, 11]          16,384\n",
            "      BatchNorm2d-18           [-1, 64, 16, 11]             128\n",
            "             ReLU-19           [-1, 64, 16, 11]               0\n",
            "           Conv2d-20           [-1, 64, 16, 11]          36,864\n",
            "      BatchNorm2d-21           [-1, 64, 16, 11]             128\n",
            "             ReLU-22           [-1, 64, 16, 11]               0\n",
            "           Conv2d-23          [-1, 256, 16, 11]          16,384\n",
            "      BatchNorm2d-24          [-1, 256, 16, 11]             512\n",
            "             ReLU-25          [-1, 256, 16, 11]               0\n",
            "       Bottleneck-26          [-1, 256, 16, 11]               0\n",
            "           Conv2d-27           [-1, 64, 16, 11]          16,384\n",
            "      BatchNorm2d-28           [-1, 64, 16, 11]             128\n",
            "             ReLU-29           [-1, 64, 16, 11]               0\n",
            "           Conv2d-30           [-1, 64, 16, 11]          36,864\n",
            "      BatchNorm2d-31           [-1, 64, 16, 11]             128\n",
            "             ReLU-32           [-1, 64, 16, 11]               0\n",
            "           Conv2d-33          [-1, 256, 16, 11]          16,384\n",
            "      BatchNorm2d-34          [-1, 256, 16, 11]             512\n",
            "             ReLU-35          [-1, 256, 16, 11]               0\n",
            "       Bottleneck-36          [-1, 256, 16, 11]               0\n",
            "           Conv2d-37          [-1, 128, 16, 11]          32,768\n",
            "      BatchNorm2d-38          [-1, 128, 16, 11]             256\n",
            "             ReLU-39          [-1, 128, 16, 11]               0\n",
            "           Conv2d-40            [-1, 128, 8, 6]         147,456\n",
            "      BatchNorm2d-41            [-1, 128, 8, 6]             256\n",
            "             ReLU-42            [-1, 128, 8, 6]               0\n",
            "           Conv2d-43            [-1, 512, 8, 6]          65,536\n",
            "      BatchNorm2d-44            [-1, 512, 8, 6]           1,024\n",
            "           Conv2d-45            [-1, 512, 8, 6]         131,072\n",
            "      BatchNorm2d-46            [-1, 512, 8, 6]           1,024\n",
            "             ReLU-47            [-1, 512, 8, 6]               0\n",
            "       Bottleneck-48            [-1, 512, 8, 6]               0\n",
            "           Conv2d-49            [-1, 128, 8, 6]          65,536\n",
            "      BatchNorm2d-50            [-1, 128, 8, 6]             256\n",
            "             ReLU-51            [-1, 128, 8, 6]               0\n",
            "           Conv2d-52            [-1, 128, 8, 6]         147,456\n",
            "      BatchNorm2d-53            [-1, 128, 8, 6]             256\n",
            "             ReLU-54            [-1, 128, 8, 6]               0\n",
            "           Conv2d-55            [-1, 512, 8, 6]          65,536\n",
            "      BatchNorm2d-56            [-1, 512, 8, 6]           1,024\n",
            "             ReLU-57            [-1, 512, 8, 6]               0\n",
            "       Bottleneck-58            [-1, 512, 8, 6]               0\n",
            "           Conv2d-59            [-1, 128, 8, 6]          65,536\n",
            "      BatchNorm2d-60            [-1, 128, 8, 6]             256\n",
            "             ReLU-61            [-1, 128, 8, 6]               0\n",
            "           Conv2d-62            [-1, 128, 8, 6]         147,456\n",
            "      BatchNorm2d-63            [-1, 128, 8, 6]             256\n",
            "             ReLU-64            [-1, 128, 8, 6]               0\n",
            "           Conv2d-65            [-1, 512, 8, 6]          65,536\n",
            "      BatchNorm2d-66            [-1, 512, 8, 6]           1,024\n",
            "             ReLU-67            [-1, 512, 8, 6]               0\n",
            "       Bottleneck-68            [-1, 512, 8, 6]               0\n",
            "           Conv2d-69            [-1, 128, 8, 6]          65,536\n",
            "      BatchNorm2d-70            [-1, 128, 8, 6]             256\n",
            "             ReLU-71            [-1, 128, 8, 6]               0\n",
            "           Conv2d-72            [-1, 128, 8, 6]         147,456\n",
            "      BatchNorm2d-73            [-1, 128, 8, 6]             256\n",
            "             ReLU-74            [-1, 128, 8, 6]               0\n",
            "           Conv2d-75            [-1, 512, 8, 6]          65,536\n",
            "      BatchNorm2d-76            [-1, 512, 8, 6]           1,024\n",
            "             ReLU-77            [-1, 512, 8, 6]               0\n",
            "       Bottleneck-78            [-1, 512, 8, 6]               0\n",
            "           Conv2d-79            [-1, 256, 8, 6]         131,072\n",
            "      BatchNorm2d-80            [-1, 256, 8, 6]             512\n",
            "             ReLU-81            [-1, 256, 8, 6]               0\n",
            "           Conv2d-82            [-1, 256, 4, 3]         589,824\n",
            "      BatchNorm2d-83            [-1, 256, 4, 3]             512\n",
            "             ReLU-84            [-1, 256, 4, 3]               0\n",
            "           Conv2d-85           [-1, 1024, 4, 3]         262,144\n",
            "      BatchNorm2d-86           [-1, 1024, 4, 3]           2,048\n",
            "           Conv2d-87           [-1, 1024, 4, 3]         524,288\n",
            "      BatchNorm2d-88           [-1, 1024, 4, 3]           2,048\n",
            "             ReLU-89           [-1, 1024, 4, 3]               0\n",
            "       Bottleneck-90           [-1, 1024, 4, 3]               0\n",
            "           Conv2d-91            [-1, 256, 4, 3]         262,144\n",
            "      BatchNorm2d-92            [-1, 256, 4, 3]             512\n",
            "             ReLU-93            [-1, 256, 4, 3]               0\n",
            "           Conv2d-94            [-1, 256, 4, 3]         589,824\n",
            "      BatchNorm2d-95            [-1, 256, 4, 3]             512\n",
            "             ReLU-96            [-1, 256, 4, 3]               0\n",
            "           Conv2d-97           [-1, 1024, 4, 3]         262,144\n",
            "      BatchNorm2d-98           [-1, 1024, 4, 3]           2,048\n",
            "             ReLU-99           [-1, 1024, 4, 3]               0\n",
            "      Bottleneck-100           [-1, 1024, 4, 3]               0\n",
            "          Conv2d-101            [-1, 256, 4, 3]         262,144\n",
            "     BatchNorm2d-102            [-1, 256, 4, 3]             512\n",
            "            ReLU-103            [-1, 256, 4, 3]               0\n",
            "          Conv2d-104            [-1, 256, 4, 3]         589,824\n",
            "     BatchNorm2d-105            [-1, 256, 4, 3]             512\n",
            "            ReLU-106            [-1, 256, 4, 3]               0\n",
            "          Conv2d-107           [-1, 1024, 4, 3]         262,144\n",
            "     BatchNorm2d-108           [-1, 1024, 4, 3]           2,048\n",
            "            ReLU-109           [-1, 1024, 4, 3]               0\n",
            "      Bottleneck-110           [-1, 1024, 4, 3]               0\n",
            "          Conv2d-111            [-1, 256, 4, 3]         262,144\n",
            "     BatchNorm2d-112            [-1, 256, 4, 3]             512\n",
            "            ReLU-113            [-1, 256, 4, 3]               0\n",
            "          Conv2d-114            [-1, 256, 4, 3]         589,824\n",
            "     BatchNorm2d-115            [-1, 256, 4, 3]             512\n",
            "            ReLU-116            [-1, 256, 4, 3]               0\n",
            "          Conv2d-117           [-1, 1024, 4, 3]         262,144\n",
            "     BatchNorm2d-118           [-1, 1024, 4, 3]           2,048\n",
            "            ReLU-119           [-1, 1024, 4, 3]               0\n",
            "      Bottleneck-120           [-1, 1024, 4, 3]               0\n",
            "          Conv2d-121            [-1, 256, 4, 3]         262,144\n",
            "     BatchNorm2d-122            [-1, 256, 4, 3]             512\n",
            "            ReLU-123            [-1, 256, 4, 3]               0\n",
            "          Conv2d-124            [-1, 256, 4, 3]         589,824\n",
            "     BatchNorm2d-125            [-1, 256, 4, 3]             512\n",
            "            ReLU-126            [-1, 256, 4, 3]               0\n",
            "          Conv2d-127           [-1, 1024, 4, 3]         262,144\n",
            "     BatchNorm2d-128           [-1, 1024, 4, 3]           2,048\n",
            "            ReLU-129           [-1, 1024, 4, 3]               0\n",
            "      Bottleneck-130           [-1, 1024, 4, 3]               0\n",
            "          Conv2d-131            [-1, 256, 4, 3]         262,144\n",
            "     BatchNorm2d-132            [-1, 256, 4, 3]             512\n",
            "            ReLU-133            [-1, 256, 4, 3]               0\n",
            "          Conv2d-134            [-1, 256, 4, 3]         589,824\n",
            "     BatchNorm2d-135            [-1, 256, 4, 3]             512\n",
            "            ReLU-136            [-1, 256, 4, 3]               0\n",
            "          Conv2d-137           [-1, 1024, 4, 3]         262,144\n",
            "     BatchNorm2d-138           [-1, 1024, 4, 3]           2,048\n",
            "            ReLU-139           [-1, 1024, 4, 3]               0\n",
            "      Bottleneck-140           [-1, 1024, 4, 3]               0\n",
            "          Conv2d-141            [-1, 512, 4, 3]         524,288\n",
            "     BatchNorm2d-142            [-1, 512, 4, 3]           1,024\n",
            "            ReLU-143            [-1, 512, 4, 3]               0\n",
            "          Conv2d-144            [-1, 512, 2, 2]       2,359,296\n",
            "     BatchNorm2d-145            [-1, 512, 2, 2]           1,024\n",
            "            ReLU-146            [-1, 512, 2, 2]               0\n",
            "          Conv2d-147           [-1, 2048, 2, 2]       1,048,576\n",
            "     BatchNorm2d-148           [-1, 2048, 2, 2]           4,096\n",
            "          Conv2d-149           [-1, 2048, 2, 2]       2,097,152\n",
            "     BatchNorm2d-150           [-1, 2048, 2, 2]           4,096\n",
            "            ReLU-151           [-1, 2048, 2, 2]               0\n",
            "      Bottleneck-152           [-1, 2048, 2, 2]               0\n",
            "          Conv2d-153            [-1, 512, 2, 2]       1,048,576\n",
            "     BatchNorm2d-154            [-1, 512, 2, 2]           1,024\n",
            "            ReLU-155            [-1, 512, 2, 2]               0\n",
            "          Conv2d-156            [-1, 512, 2, 2]       2,359,296\n",
            "     BatchNorm2d-157            [-1, 512, 2, 2]           1,024\n",
            "            ReLU-158            [-1, 512, 2, 2]               0\n",
            "          Conv2d-159           [-1, 2048, 2, 2]       1,048,576\n",
            "     BatchNorm2d-160           [-1, 2048, 2, 2]           4,096\n",
            "            ReLU-161           [-1, 2048, 2, 2]               0\n",
            "      Bottleneck-162           [-1, 2048, 2, 2]               0\n",
            "          Conv2d-163            [-1, 512, 2, 2]       1,048,576\n",
            "     BatchNorm2d-164            [-1, 512, 2, 2]           1,024\n",
            "            ReLU-165            [-1, 512, 2, 2]               0\n",
            "          Conv2d-166            [-1, 512, 2, 2]       2,359,296\n",
            "     BatchNorm2d-167            [-1, 512, 2, 2]           1,024\n",
            "            ReLU-168            [-1, 512, 2, 2]               0\n",
            "          Conv2d-169           [-1, 2048, 2, 2]       1,048,576\n",
            "     BatchNorm2d-170           [-1, 2048, 2, 2]           4,096\n",
            "            ReLU-171           [-1, 2048, 2, 2]               0\n",
            "      Bottleneck-172           [-1, 2048, 2, 2]               0\n",
            "AdaptiveAvgPool2d-173           [-1, 2048, 1, 1]               0\n",
            "          Linear-174                   [-1, 50]         102,450\n",
            "================================================================\n",
            "Total params: 23,604,210\n",
            "Trainable params: 23,604,210\n",
            "Non-trainable params: 0\n",
            "----------------------------------------------------------------\n",
            "Input size (MB): 0.01\n",
            "Forward/backward pass size (MB): 17.11\n",
            "Params size (MB): 90.04\n",
            "Estimated Total Size (MB): 107.16\n",
            "----------------------------------------------------------------\n"
          ]
        }
      ],
      "source": [
        "summary(resnet_model, (1, 64, 44))"
      ]
    },
    {
      "cell_type": "code",
      "execution_count": 19,
      "metadata": {
        "id": "Ha8SSs5ssN5P"
      },
      "outputs": [],
      "source": [
        "def setlr(optimizer, lr):\n",
        "  for param_group in optimizer.param_groups:\n",
        "    param_group['lr'] = lr\n",
        "  return optimizer"
      ]
    },
    {
      "cell_type": "code",
      "execution_count": 20,
      "metadata": {
        "id": "0RmbH2DPg_fq"
      },
      "outputs": [],
      "source": [
        "def train(resnet_model, loss_fn, train_loader, valid_loader, epochs, optimizer, train_losses, valid_losses, change_lr=None):\n",
        "  for epoch in tqdm(range(1,epochs+1)):\n",
        "    resnet_model.train()\n",
        "    batch_losses=[]\n",
        "    if change_lr:\n",
        "      optimizer = change_lr(optimizer, epoch)\n",
        "    for i, data in enumerate(train_loader):\n",
        "      x, y = data\n",
        "      optimizer.zero_grad()\n",
        "      x = x.to(device, dtype=torch.float32)\n",
        "      y = y.to(device, dtype=torch.long)\n",
        "      y_hat = resnet_model(x)\n",
        "      loss = loss_fn(y_hat, y)\n",
        "      loss.backward()\n",
        "      batch_losses.append(loss.item())\n",
        "      optimizer.step()\n",
        "    train_losses.append(batch_losses)\n",
        "    print(f'Epoch - {epoch} Train-Loss : {np.mean(train_losses[-1])}')\n",
        "    resnet_model.eval()\n",
        "    batch_losses=[]\n",
        "    trace_y = []\n",
        "    trace_yhat = []\n",
        "    for i, data in enumerate(valid_loader):\n",
        "      x, y = data\n",
        "      x = x.to(device, dtype=torch.float32)\n",
        "      y = y.to(device, dtype=torch.long)\n",
        "      y_hat = resnet_model(x)\n",
        "      loss = loss_fn(y_hat, y)\n",
        "      trace_y.append(y.cpu().detach().numpy())\n",
        "      trace_yhat.append(y_hat.cpu().detach().numpy())      \n",
        "      batch_losses.append(loss.item())\n",
        "    valid_losses.append(batch_losses)\n",
        "    trace_y = np.concatenate(trace_y)\n",
        "    trace_yhat = np.concatenate(trace_yhat)\n",
        "    accuracy = np.mean(trace_yhat.argmax(axis=1)==trace_y)\n",
        "    print(f'Epoch - {epoch} Valid-Loss : {np.mean(valid_losses[-1])} Valid-Accuracy : {accuracy}')"
      ]
    },
    {
      "cell_type": "code",
      "execution_count": null,
      "metadata": {
        "colab": {
          "base_uri": "https://localhost:8080/",
          "height": 118,
          "referenced_widgets": [
            "89ce0c7f1b1f4e2eac14888d3bdf93db",
            "d0fb8cb2beff405fb0bd0a1cb1460556",
            "016fa59cc39f42b7bcc8b2dfd945bf21",
            "35e589c8d9704479afe4e4cfac8c8744",
            "a4f7e3bf1482489ab8d817cf467aaedc",
            "44685f90339c415a9d389013475dd898",
            "1ebc76d5c9144b36b153cae629f3e326",
            "09f7c6dbb31c49dd98c60be60a4c0f02",
            "929caf4100de414fab0c1e63927433ce",
            "8d6affe5b12f4297b0656558df825860",
            "f287ed983ba64f7b948b2047775aee0e"
          ]
        },
        "id": "dSBjCYnbhJCQ",
        "outputId": "1e37c837-a4ce-49f6-a5fc-2128e407e4d6"
      },
      "outputs": [
        {
          "name": "stderr",
          "output_type": "stream",
          "text": [
            "<ipython-input-20-b517820459cf>:2: TqdmDeprecationWarning: This function will be removed in tqdm==5.0.0\n",
            "Please use `tqdm.notebook.tqdm` instead of `tqdm.tqdm_notebook`\n",
            "  for epoch in tqdm(range(1,epochs+1)):\n"
          ]
        },
        {
          "data": {
            "application/vnd.jupyter.widget-view+json": {
              "model_id": "89ce0c7f1b1f4e2eac14888d3bdf93db",
              "version_major": 2,
              "version_minor": 0
            },
            "text/plain": [
              "  0%|          | 0/80 [00:00<?, ?it/s]"
            ]
          },
          "metadata": {},
          "output_type": "display_data"
        },
        {
          "name": "stdout",
          "output_type": "stream",
          "text": [
            "Epoch - 1 Train-Loss : 2.8745576763153076\n"
          ]
        }
      ],
      "source": [
        "learning_rate = 2e-4\n",
        "optimizer = optim.Adam(resnet_model.parameters(), lr=learning_rate)\n",
        "epochs = 80\n",
        "loss_fn = nn.CrossEntropyLoss()\n",
        "resnet_model_train_losses=[]\n",
        "resnet_model_valid_losses=[]\n",
        "def lr_decay(optimizer, epoch):\n",
        "  if epoch%10==0:\n",
        "    new_lr = learning_rate / (10**(epoch//10))\n",
        "    optimizer = setlr(optimizer, new_lr)\n",
        "    print(f'Changed learning rate to {new_lr}')\n",
        "  return optimizer\n",
        "train(resnet_model, loss_fn, train_loader, valid_loader, epochs, optimizer, resnet_model_train_losses, resnet_model_valid_losses, lr_decay)"
      ]
    },
    {
      "cell_type": "code",
      "execution_count": null,
      "metadata": {
        "id": "Hj_KBf8ehTw8"
      },
      "outputs": [],
      "source": [
        "tl = np.asarray(cnn_train_losses).ravel()\n",
        "vl = np.asarray(cnn_valid_losses).ravel()\n",
        "plt.figure(figsize=(12,6))\n",
        "plt.subplot(1,2,1)\n",
        "plt.plot(tl)\n",
        "plt.legend(['Train Loss'])\n",
        "plt.subplot(1,2,2)\n",
        "plt.plot(vl,'orange')\n",
        "plt.legend(['Valid Loss'])"
      ]
    }
  ],
  "metadata": {
    "accelerator": "TPU",
    "colab": {
      "machine_shape": "hm",
      "provenance": []
    },
    "gpuClass": "standard",
    "kernelspec": {
      "display_name": "Python 3.9.0 ('aa')",
      "language": "python",
      "name": "python3"
    },
    "language_info": {
      "codemirror_mode": {
        "name": "ipython",
        "version": 3
      },
      "file_extension": ".py",
      "mimetype": "text/x-python",
      "name": "python",
      "nbconvert_exporter": "python",
      "pygments_lexer": "ipython3",
      "version": "3.9.0"
    },
    "vscode": {
      "interpreter": {
        "hash": "930b67c35b4c6d30ce018e961ff12d868ff1dfdffa0e6307ef9511d8cca31667"
      }
    },
    "widgets": {
      "application/vnd.jupyter.widget-state+json": {
        "016fa59cc39f42b7bcc8b2dfd945bf21": {
          "model_module": "@jupyter-widgets/controls",
          "model_module_version": "1.5.0",
          "model_name": "FloatProgressModel",
          "state": {
            "_dom_classes": [],
            "_model_module": "@jupyter-widgets/controls",
            "_model_module_version": "1.5.0",
            "_model_name": "FloatProgressModel",
            "_view_count": null,
            "_view_module": "@jupyter-widgets/controls",
            "_view_module_version": "1.5.0",
            "_view_name": "ProgressView",
            "bar_style": "",
            "description": "",
            "description_tooltip": null,
            "layout": "IPY_MODEL_09f7c6dbb31c49dd98c60be60a4c0f02",
            "max": 80,
            "min": 0,
            "orientation": "horizontal",
            "style": "IPY_MODEL_929caf4100de414fab0c1e63927433ce",
            "value": 0
          }
        },
        "09f7c6dbb31c49dd98c60be60a4c0f02": {
          "model_module": "@jupyter-widgets/base",
          "model_module_version": "1.2.0",
          "model_name": "LayoutModel",
          "state": {
            "_model_module": "@jupyter-widgets/base",
            "_model_module_version": "1.2.0",
            "_model_name": "LayoutModel",
            "_view_count": null,
            "_view_module": "@jupyter-widgets/base",
            "_view_module_version": "1.2.0",
            "_view_name": "LayoutView",
            "align_content": null,
            "align_items": null,
            "align_self": null,
            "border": null,
            "bottom": null,
            "display": null,
            "flex": null,
            "flex_flow": null,
            "grid_area": null,
            "grid_auto_columns": null,
            "grid_auto_flow": null,
            "grid_auto_rows": null,
            "grid_column": null,
            "grid_gap": null,
            "grid_row": null,
            "grid_template_areas": null,
            "grid_template_columns": null,
            "grid_template_rows": null,
            "height": null,
            "justify_content": null,
            "justify_items": null,
            "left": null,
            "margin": null,
            "max_height": null,
            "max_width": null,
            "min_height": null,
            "min_width": null,
            "object_fit": null,
            "object_position": null,
            "order": null,
            "overflow": null,
            "overflow_x": null,
            "overflow_y": null,
            "padding": null,
            "right": null,
            "top": null,
            "visibility": null,
            "width": null
          }
        },
        "0f04ce0432a147469d9e545bfba200fa": {
          "model_module": "@jupyter-widgets/controls",
          "model_module_version": "1.5.0",
          "model_name": "HTMLModel",
          "state": {
            "_dom_classes": [],
            "_model_module": "@jupyter-widgets/controls",
            "_model_module_version": "1.5.0",
            "_model_name": "HTMLModel",
            "_view_count": null,
            "_view_module": "@jupyter-widgets/controls",
            "_view_module_version": "1.5.0",
            "_view_name": "HTMLView",
            "description": "",
            "description_tooltip": null,
            "layout": "IPY_MODEL_1fb195cdf4514b1f832dd854f087f480",
            "placeholder": "​",
            "style": "IPY_MODEL_f3842c04c968430db2f2517584eafbaf",
            "value": " 97.8M/97.8M [00:00&lt;00:00, 247MB/s]"
          }
        },
        "1ebc76d5c9144b36b153cae629f3e326": {
          "model_module": "@jupyter-widgets/controls",
          "model_module_version": "1.5.0",
          "model_name": "DescriptionStyleModel",
          "state": {
            "_model_module": "@jupyter-widgets/controls",
            "_model_module_version": "1.5.0",
            "_model_name": "DescriptionStyleModel",
            "_view_count": null,
            "_view_module": "@jupyter-widgets/base",
            "_view_module_version": "1.2.0",
            "_view_name": "StyleView",
            "description_width": ""
          }
        },
        "1fad8ed21c034c4ead508bf806450b60": {
          "model_module": "@jupyter-widgets/controls",
          "model_module_version": "1.5.0",
          "model_name": "FloatProgressModel",
          "state": {
            "_dom_classes": [],
            "_model_module": "@jupyter-widgets/controls",
            "_model_module_version": "1.5.0",
            "_model_name": "FloatProgressModel",
            "_view_count": null,
            "_view_module": "@jupyter-widgets/controls",
            "_view_module_version": "1.5.0",
            "_view_name": "ProgressView",
            "bar_style": "success",
            "description": "",
            "description_tooltip": null,
            "layout": "IPY_MODEL_92fadb59680447d6b54952d7dd55952f",
            "max": 1600,
            "min": 0,
            "orientation": "horizontal",
            "style": "IPY_MODEL_66d9929cdf0d48438bc0009bb807b2ae",
            "value": 1600
          }
        },
        "1fb195cdf4514b1f832dd854f087f480": {
          "model_module": "@jupyter-widgets/base",
          "model_module_version": "1.2.0",
          "model_name": "LayoutModel",
          "state": {
            "_model_module": "@jupyter-widgets/base",
            "_model_module_version": "1.2.0",
            "_model_name": "LayoutModel",
            "_view_count": null,
            "_view_module": "@jupyter-widgets/base",
            "_view_module_version": "1.2.0",
            "_view_name": "LayoutView",
            "align_content": null,
            "align_items": null,
            "align_self": null,
            "border": null,
            "bottom": null,
            "display": null,
            "flex": null,
            "flex_flow": null,
            "grid_area": null,
            "grid_auto_columns": null,
            "grid_auto_flow": null,
            "grid_auto_rows": null,
            "grid_column": null,
            "grid_gap": null,
            "grid_row": null,
            "grid_template_areas": null,
            "grid_template_columns": null,
            "grid_template_rows": null,
            "height": null,
            "justify_content": null,
            "justify_items": null,
            "left": null,
            "margin": null,
            "max_height": null,
            "max_width": null,
            "min_height": null,
            "min_width": null,
            "object_fit": null,
            "object_position": null,
            "order": null,
            "overflow": null,
            "overflow_x": null,
            "overflow_y": null,
            "padding": null,
            "right": null,
            "top": null,
            "visibility": null,
            "width": null
          }
        },
        "29d4d506db474b709c994c2a2310da1b": {
          "model_module": "@jupyter-widgets/base",
          "model_module_version": "1.2.0",
          "model_name": "LayoutModel",
          "state": {
            "_model_module": "@jupyter-widgets/base",
            "_model_module_version": "1.2.0",
            "_model_name": "LayoutModel",
            "_view_count": null,
            "_view_module": "@jupyter-widgets/base",
            "_view_module_version": "1.2.0",
            "_view_name": "LayoutView",
            "align_content": null,
            "align_items": null,
            "align_self": null,
            "border": null,
            "bottom": null,
            "display": null,
            "flex": null,
            "flex_flow": null,
            "grid_area": null,
            "grid_auto_columns": null,
            "grid_auto_flow": null,
            "grid_auto_rows": null,
            "grid_column": null,
            "grid_gap": null,
            "grid_row": null,
            "grid_template_areas": null,
            "grid_template_columns": null,
            "grid_template_rows": null,
            "height": null,
            "justify_content": null,
            "justify_items": null,
            "left": null,
            "margin": null,
            "max_height": null,
            "max_width": null,
            "min_height": null,
            "min_width": null,
            "object_fit": null,
            "object_position": null,
            "order": null,
            "overflow": null,
            "overflow_x": null,
            "overflow_y": null,
            "padding": null,
            "right": null,
            "top": null,
            "visibility": null,
            "width": null
          }
        },
        "35e589c8d9704479afe4e4cfac8c8744": {
          "model_module": "@jupyter-widgets/controls",
          "model_module_version": "1.5.0",
          "model_name": "HTMLModel",
          "state": {
            "_dom_classes": [],
            "_model_module": "@jupyter-widgets/controls",
            "_model_module_version": "1.5.0",
            "_model_name": "HTMLModel",
            "_view_count": null,
            "_view_module": "@jupyter-widgets/controls",
            "_view_module_version": "1.5.0",
            "_view_name": "HTMLView",
            "description": "",
            "description_tooltip": null,
            "layout": "IPY_MODEL_8d6affe5b12f4297b0656558df825860",
            "placeholder": "​",
            "style": "IPY_MODEL_f287ed983ba64f7b948b2047775aee0e",
            "value": " 0/80 [00:00&lt;?, ?it/s]"
          }
        },
        "44685f90339c415a9d389013475dd898": {
          "model_module": "@jupyter-widgets/base",
          "model_module_version": "1.2.0",
          "model_name": "LayoutModel",
          "state": {
            "_model_module": "@jupyter-widgets/base",
            "_model_module_version": "1.2.0",
            "_model_name": "LayoutModel",
            "_view_count": null,
            "_view_module": "@jupyter-widgets/base",
            "_view_module_version": "1.2.0",
            "_view_name": "LayoutView",
            "align_content": null,
            "align_items": null,
            "align_self": null,
            "border": null,
            "bottom": null,
            "display": null,
            "flex": null,
            "flex_flow": null,
            "grid_area": null,
            "grid_auto_columns": null,
            "grid_auto_flow": null,
            "grid_auto_rows": null,
            "grid_column": null,
            "grid_gap": null,
            "grid_row": null,
            "grid_template_areas": null,
            "grid_template_columns": null,
            "grid_template_rows": null,
            "height": null,
            "justify_content": null,
            "justify_items": null,
            "left": null,
            "margin": null,
            "max_height": null,
            "max_width": null,
            "min_height": null,
            "min_width": null,
            "object_fit": null,
            "object_position": null,
            "order": null,
            "overflow": null,
            "overflow_x": null,
            "overflow_y": null,
            "padding": null,
            "right": null,
            "top": null,
            "visibility": null,
            "width": null
          }
        },
        "47b683fd2f3247f4861733a553ec1341": {
          "model_module": "@jupyter-widgets/controls",
          "model_module_version": "1.5.0",
          "model_name": "HTMLModel",
          "state": {
            "_dom_classes": [],
            "_model_module": "@jupyter-widgets/controls",
            "_model_module_version": "1.5.0",
            "_model_name": "HTMLModel",
            "_view_count": null,
            "_view_module": "@jupyter-widgets/controls",
            "_view_module_version": "1.5.0",
            "_view_name": "HTMLView",
            "description": "",
            "description_tooltip": null,
            "layout": "IPY_MODEL_6203f37ba71f4b89805055c2e0074717",
            "placeholder": "​",
            "style": "IPY_MODEL_692463c37fa7498b93f68ec30d161bbb",
            "value": "100%"
          }
        },
        "509bd2b65f914867bf7dc085c92690a5": {
          "model_module": "@jupyter-widgets/base",
          "model_module_version": "1.2.0",
          "model_name": "LayoutModel",
          "state": {
            "_model_module": "@jupyter-widgets/base",
            "_model_module_version": "1.2.0",
            "_model_name": "LayoutModel",
            "_view_count": null,
            "_view_module": "@jupyter-widgets/base",
            "_view_module_version": "1.2.0",
            "_view_name": "LayoutView",
            "align_content": null,
            "align_items": null,
            "align_self": null,
            "border": null,
            "bottom": null,
            "display": null,
            "flex": null,
            "flex_flow": null,
            "grid_area": null,
            "grid_auto_columns": null,
            "grid_auto_flow": null,
            "grid_auto_rows": null,
            "grid_column": null,
            "grid_gap": null,
            "grid_row": null,
            "grid_template_areas": null,
            "grid_template_columns": null,
            "grid_template_rows": null,
            "height": null,
            "justify_content": null,
            "justify_items": null,
            "left": null,
            "margin": null,
            "max_height": null,
            "max_width": null,
            "min_height": null,
            "min_width": null,
            "object_fit": null,
            "object_position": null,
            "order": null,
            "overflow": null,
            "overflow_x": null,
            "overflow_y": null,
            "padding": null,
            "right": null,
            "top": null,
            "visibility": null,
            "width": null
          }
        },
        "6203f37ba71f4b89805055c2e0074717": {
          "model_module": "@jupyter-widgets/base",
          "model_module_version": "1.2.0",
          "model_name": "LayoutModel",
          "state": {
            "_model_module": "@jupyter-widgets/base",
            "_model_module_version": "1.2.0",
            "_model_name": "LayoutModel",
            "_view_count": null,
            "_view_module": "@jupyter-widgets/base",
            "_view_module_version": "1.2.0",
            "_view_name": "LayoutView",
            "align_content": null,
            "align_items": null,
            "align_self": null,
            "border": null,
            "bottom": null,
            "display": null,
            "flex": null,
            "flex_flow": null,
            "grid_area": null,
            "grid_auto_columns": null,
            "grid_auto_flow": null,
            "grid_auto_rows": null,
            "grid_column": null,
            "grid_gap": null,
            "grid_row": null,
            "grid_template_areas": null,
            "grid_template_columns": null,
            "grid_template_rows": null,
            "height": null,
            "justify_content": null,
            "justify_items": null,
            "left": null,
            "margin": null,
            "max_height": null,
            "max_width": null,
            "min_height": null,
            "min_width": null,
            "object_fit": null,
            "object_position": null,
            "order": null,
            "overflow": null,
            "overflow_x": null,
            "overflow_y": null,
            "padding": null,
            "right": null,
            "top": null,
            "visibility": null,
            "width": null
          }
        },
        "66d9929cdf0d48438bc0009bb807b2ae": {
          "model_module": "@jupyter-widgets/controls",
          "model_module_version": "1.5.0",
          "model_name": "ProgressStyleModel",
          "state": {
            "_model_module": "@jupyter-widgets/controls",
            "_model_module_version": "1.5.0",
            "_model_name": "ProgressStyleModel",
            "_view_count": null,
            "_view_module": "@jupyter-widgets/base",
            "_view_module_version": "1.2.0",
            "_view_name": "StyleView",
            "bar_color": null,
            "description_width": ""
          }
        },
        "692463c37fa7498b93f68ec30d161bbb": {
          "model_module": "@jupyter-widgets/controls",
          "model_module_version": "1.5.0",
          "model_name": "DescriptionStyleModel",
          "state": {
            "_model_module": "@jupyter-widgets/controls",
            "_model_module_version": "1.5.0",
            "_model_name": "DescriptionStyleModel",
            "_view_count": null,
            "_view_module": "@jupyter-widgets/base",
            "_view_module_version": "1.2.0",
            "_view_name": "StyleView",
            "description_width": ""
          }
        },
        "6a3296b36e084d6eb8c578b352c37be2": {
          "model_module": "@jupyter-widgets/controls",
          "model_module_version": "1.5.0",
          "model_name": "HBoxModel",
          "state": {
            "_dom_classes": [],
            "_model_module": "@jupyter-widgets/controls",
            "_model_module_version": "1.5.0",
            "_model_name": "HBoxModel",
            "_view_count": null,
            "_view_module": "@jupyter-widgets/controls",
            "_view_module_version": "1.5.0",
            "_view_name": "HBoxView",
            "box_style": "",
            "children": [
              "IPY_MODEL_47b683fd2f3247f4861733a553ec1341",
              "IPY_MODEL_9d422b544c444720b40cf7fd7e721631",
              "IPY_MODEL_fa72588a7bfe4973bde9dc245deafea0"
            ],
            "layout": "IPY_MODEL_9ca2edddaae64bfdb4388b5ebc337c17"
          }
        },
        "6feab2458bac4523922725243e9958c9": {
          "model_module": "@jupyter-widgets/controls",
          "model_module_version": "1.5.0",
          "model_name": "FloatProgressModel",
          "state": {
            "_dom_classes": [],
            "_model_module": "@jupyter-widgets/controls",
            "_model_module_version": "1.5.0",
            "_model_name": "FloatProgressModel",
            "_view_count": null,
            "_view_module": "@jupyter-widgets/controls",
            "_view_module_version": "1.5.0",
            "_view_name": "ProgressView",
            "bar_style": "success",
            "description": "",
            "description_tooltip": null,
            "layout": "IPY_MODEL_c138f5d85e3640d690bf99ea6131ff88",
            "max": 102530333,
            "min": 0,
            "orientation": "horizontal",
            "style": "IPY_MODEL_b82cb9f075404e0585dcc6c43aa47cee",
            "value": 102530333
          }
        },
        "767c16929ee7427fadaf381a7759fcee": {
          "model_module": "@jupyter-widgets/controls",
          "model_module_version": "1.5.0",
          "model_name": "HTMLModel",
          "state": {
            "_dom_classes": [],
            "_model_module": "@jupyter-widgets/controls",
            "_model_module_version": "1.5.0",
            "_model_name": "HTMLModel",
            "_view_count": null,
            "_view_module": "@jupyter-widgets/controls",
            "_view_module_version": "1.5.0",
            "_view_name": "HTMLView",
            "description": "",
            "description_tooltip": null,
            "layout": "IPY_MODEL_ccf33d7b59d74b4696b289bdf60cd21c",
            "placeholder": "​",
            "style": "IPY_MODEL_a966185b3e7e4c9db9794451864261ce",
            "value": "100%"
          }
        },
        "89ce0c7f1b1f4e2eac14888d3bdf93db": {
          "model_module": "@jupyter-widgets/controls",
          "model_module_version": "1.5.0",
          "model_name": "HBoxModel",
          "state": {
            "_dom_classes": [],
            "_model_module": "@jupyter-widgets/controls",
            "_model_module_version": "1.5.0",
            "_model_name": "HBoxModel",
            "_view_count": null,
            "_view_module": "@jupyter-widgets/controls",
            "_view_module_version": "1.5.0",
            "_view_name": "HBoxView",
            "box_style": "",
            "children": [
              "IPY_MODEL_d0fb8cb2beff405fb0bd0a1cb1460556",
              "IPY_MODEL_016fa59cc39f42b7bcc8b2dfd945bf21",
              "IPY_MODEL_35e589c8d9704479afe4e4cfac8c8744"
            ],
            "layout": "IPY_MODEL_a4f7e3bf1482489ab8d817cf467aaedc"
          }
        },
        "8d0978a8057c439aad71a8f851f5a03b": {
          "model_module": "@jupyter-widgets/base",
          "model_module_version": "1.2.0",
          "model_name": "LayoutModel",
          "state": {
            "_model_module": "@jupyter-widgets/base",
            "_model_module_version": "1.2.0",
            "_model_name": "LayoutModel",
            "_view_count": null,
            "_view_module": "@jupyter-widgets/base",
            "_view_module_version": "1.2.0",
            "_view_name": "LayoutView",
            "align_content": null,
            "align_items": null,
            "align_self": null,
            "border": null,
            "bottom": null,
            "display": null,
            "flex": null,
            "flex_flow": null,
            "grid_area": null,
            "grid_auto_columns": null,
            "grid_auto_flow": null,
            "grid_auto_rows": null,
            "grid_column": null,
            "grid_gap": null,
            "grid_row": null,
            "grid_template_areas": null,
            "grid_template_columns": null,
            "grid_template_rows": null,
            "height": null,
            "justify_content": null,
            "justify_items": null,
            "left": null,
            "margin": null,
            "max_height": null,
            "max_width": null,
            "min_height": null,
            "min_width": null,
            "object_fit": null,
            "object_position": null,
            "order": null,
            "overflow": null,
            "overflow_x": null,
            "overflow_y": null,
            "padding": null,
            "right": null,
            "top": null,
            "visibility": null,
            "width": null
          }
        },
        "8d6affe5b12f4297b0656558df825860": {
          "model_module": "@jupyter-widgets/base",
          "model_module_version": "1.2.0",
          "model_name": "LayoutModel",
          "state": {
            "_model_module": "@jupyter-widgets/base",
            "_model_module_version": "1.2.0",
            "_model_name": "LayoutModel",
            "_view_count": null,
            "_view_module": "@jupyter-widgets/base",
            "_view_module_version": "1.2.0",
            "_view_name": "LayoutView",
            "align_content": null,
            "align_items": null,
            "align_self": null,
            "border": null,
            "bottom": null,
            "display": null,
            "flex": null,
            "flex_flow": null,
            "grid_area": null,
            "grid_auto_columns": null,
            "grid_auto_flow": null,
            "grid_auto_rows": null,
            "grid_column": null,
            "grid_gap": null,
            "grid_row": null,
            "grid_template_areas": null,
            "grid_template_columns": null,
            "grid_template_rows": null,
            "height": null,
            "justify_content": null,
            "justify_items": null,
            "left": null,
            "margin": null,
            "max_height": null,
            "max_width": null,
            "min_height": null,
            "min_width": null,
            "object_fit": null,
            "object_position": null,
            "order": null,
            "overflow": null,
            "overflow_x": null,
            "overflow_y": null,
            "padding": null,
            "right": null,
            "top": null,
            "visibility": null,
            "width": null
          }
        },
        "9055d48866884bb7b7b215a55435d1ce": {
          "model_module": "@jupyter-widgets/controls",
          "model_module_version": "1.5.0",
          "model_name": "HBoxModel",
          "state": {
            "_dom_classes": [],
            "_model_module": "@jupyter-widgets/controls",
            "_model_module_version": "1.5.0",
            "_model_name": "HBoxModel",
            "_view_count": null,
            "_view_module": "@jupyter-widgets/controls",
            "_view_module_version": "1.5.0",
            "_view_name": "HBoxView",
            "box_style": "",
            "children": [
              "IPY_MODEL_767c16929ee7427fadaf381a7759fcee",
              "IPY_MODEL_1fad8ed21c034c4ead508bf806450b60",
              "IPY_MODEL_ff063421e1b7481ba2e501639aefb9e6"
            ],
            "layout": "IPY_MODEL_ca8dcd8154784bdb896a062733e6e0ae"
          }
        },
        "91187c496da349aab3bba2b9395a6246": {
          "model_module": "@jupyter-widgets/base",
          "model_module_version": "1.2.0",
          "model_name": "LayoutModel",
          "state": {
            "_model_module": "@jupyter-widgets/base",
            "_model_module_version": "1.2.0",
            "_model_name": "LayoutModel",
            "_view_count": null,
            "_view_module": "@jupyter-widgets/base",
            "_view_module_version": "1.2.0",
            "_view_name": "LayoutView",
            "align_content": null,
            "align_items": null,
            "align_self": null,
            "border": null,
            "bottom": null,
            "display": null,
            "flex": null,
            "flex_flow": null,
            "grid_area": null,
            "grid_auto_columns": null,
            "grid_auto_flow": null,
            "grid_auto_rows": null,
            "grid_column": null,
            "grid_gap": null,
            "grid_row": null,
            "grid_template_areas": null,
            "grid_template_columns": null,
            "grid_template_rows": null,
            "height": null,
            "justify_content": null,
            "justify_items": null,
            "left": null,
            "margin": null,
            "max_height": null,
            "max_width": null,
            "min_height": null,
            "min_width": null,
            "object_fit": null,
            "object_position": null,
            "order": null,
            "overflow": null,
            "overflow_x": null,
            "overflow_y": null,
            "padding": null,
            "right": null,
            "top": null,
            "visibility": null,
            "width": null
          }
        },
        "929caf4100de414fab0c1e63927433ce": {
          "model_module": "@jupyter-widgets/controls",
          "model_module_version": "1.5.0",
          "model_name": "ProgressStyleModel",
          "state": {
            "_model_module": "@jupyter-widgets/controls",
            "_model_module_version": "1.5.0",
            "_model_name": "ProgressStyleModel",
            "_view_count": null,
            "_view_module": "@jupyter-widgets/base",
            "_view_module_version": "1.2.0",
            "_view_name": "StyleView",
            "bar_color": null,
            "description_width": ""
          }
        },
        "92fadb59680447d6b54952d7dd55952f": {
          "model_module": "@jupyter-widgets/base",
          "model_module_version": "1.2.0",
          "model_name": "LayoutModel",
          "state": {
            "_model_module": "@jupyter-widgets/base",
            "_model_module_version": "1.2.0",
            "_model_name": "LayoutModel",
            "_view_count": null,
            "_view_module": "@jupyter-widgets/base",
            "_view_module_version": "1.2.0",
            "_view_name": "LayoutView",
            "align_content": null,
            "align_items": null,
            "align_self": null,
            "border": null,
            "bottom": null,
            "display": null,
            "flex": null,
            "flex_flow": null,
            "grid_area": null,
            "grid_auto_columns": null,
            "grid_auto_flow": null,
            "grid_auto_rows": null,
            "grid_column": null,
            "grid_gap": null,
            "grid_row": null,
            "grid_template_areas": null,
            "grid_template_columns": null,
            "grid_template_rows": null,
            "height": null,
            "justify_content": null,
            "justify_items": null,
            "left": null,
            "margin": null,
            "max_height": null,
            "max_width": null,
            "min_height": null,
            "min_width": null,
            "object_fit": null,
            "object_position": null,
            "order": null,
            "overflow": null,
            "overflow_x": null,
            "overflow_y": null,
            "padding": null,
            "right": null,
            "top": null,
            "visibility": null,
            "width": null
          }
        },
        "9565ef752ee5413788c6f8d4f4e43cea": {
          "model_module": "@jupyter-widgets/controls",
          "model_module_version": "1.5.0",
          "model_name": "DescriptionStyleModel",
          "state": {
            "_model_module": "@jupyter-widgets/controls",
            "_model_module_version": "1.5.0",
            "_model_name": "DescriptionStyleModel",
            "_view_count": null,
            "_view_module": "@jupyter-widgets/base",
            "_view_module_version": "1.2.0",
            "_view_name": "StyleView",
            "description_width": ""
          }
        },
        "9ca2edddaae64bfdb4388b5ebc337c17": {
          "model_module": "@jupyter-widgets/base",
          "model_module_version": "1.2.0",
          "model_name": "LayoutModel",
          "state": {
            "_model_module": "@jupyter-widgets/base",
            "_model_module_version": "1.2.0",
            "_model_name": "LayoutModel",
            "_view_count": null,
            "_view_module": "@jupyter-widgets/base",
            "_view_module_version": "1.2.0",
            "_view_name": "LayoutView",
            "align_content": null,
            "align_items": null,
            "align_self": null,
            "border": null,
            "bottom": null,
            "display": null,
            "flex": null,
            "flex_flow": null,
            "grid_area": null,
            "grid_auto_columns": null,
            "grid_auto_flow": null,
            "grid_auto_rows": null,
            "grid_column": null,
            "grid_gap": null,
            "grid_row": null,
            "grid_template_areas": null,
            "grid_template_columns": null,
            "grid_template_rows": null,
            "height": null,
            "justify_content": null,
            "justify_items": null,
            "left": null,
            "margin": null,
            "max_height": null,
            "max_width": null,
            "min_height": null,
            "min_width": null,
            "object_fit": null,
            "object_position": null,
            "order": null,
            "overflow": null,
            "overflow_x": null,
            "overflow_y": null,
            "padding": null,
            "right": null,
            "top": null,
            "visibility": null,
            "width": null
          }
        },
        "9d422b544c444720b40cf7fd7e721631": {
          "model_module": "@jupyter-widgets/controls",
          "model_module_version": "1.5.0",
          "model_name": "FloatProgressModel",
          "state": {
            "_dom_classes": [],
            "_model_module": "@jupyter-widgets/controls",
            "_model_module_version": "1.5.0",
            "_model_name": "FloatProgressModel",
            "_view_count": null,
            "_view_module": "@jupyter-widgets/controls",
            "_view_module_version": "1.5.0",
            "_view_name": "ProgressView",
            "bar_style": "success",
            "description": "",
            "description_tooltip": null,
            "layout": "IPY_MODEL_509bd2b65f914867bf7dc085c92690a5",
            "max": 400,
            "min": 0,
            "orientation": "horizontal",
            "style": "IPY_MODEL_ae5d9982083748bcbfd2c42225122bc6",
            "value": 400
          }
        },
        "a4f7e3bf1482489ab8d817cf467aaedc": {
          "model_module": "@jupyter-widgets/base",
          "model_module_version": "1.2.0",
          "model_name": "LayoutModel",
          "state": {
            "_model_module": "@jupyter-widgets/base",
            "_model_module_version": "1.2.0",
            "_model_name": "LayoutModel",
            "_view_count": null,
            "_view_module": "@jupyter-widgets/base",
            "_view_module_version": "1.2.0",
            "_view_name": "LayoutView",
            "align_content": null,
            "align_items": null,
            "align_self": null,
            "border": null,
            "bottom": null,
            "display": null,
            "flex": null,
            "flex_flow": null,
            "grid_area": null,
            "grid_auto_columns": null,
            "grid_auto_flow": null,
            "grid_auto_rows": null,
            "grid_column": null,
            "grid_gap": null,
            "grid_row": null,
            "grid_template_areas": null,
            "grid_template_columns": null,
            "grid_template_rows": null,
            "height": null,
            "justify_content": null,
            "justify_items": null,
            "left": null,
            "margin": null,
            "max_height": null,
            "max_width": null,
            "min_height": null,
            "min_width": null,
            "object_fit": null,
            "object_position": null,
            "order": null,
            "overflow": null,
            "overflow_x": null,
            "overflow_y": null,
            "padding": null,
            "right": null,
            "top": null,
            "visibility": null,
            "width": null
          }
        },
        "a966185b3e7e4c9db9794451864261ce": {
          "model_module": "@jupyter-widgets/controls",
          "model_module_version": "1.5.0",
          "model_name": "DescriptionStyleModel",
          "state": {
            "_model_module": "@jupyter-widgets/controls",
            "_model_module_version": "1.5.0",
            "_model_name": "DescriptionStyleModel",
            "_view_count": null,
            "_view_module": "@jupyter-widgets/base",
            "_view_module_version": "1.2.0",
            "_view_name": "StyleView",
            "description_width": ""
          }
        },
        "aa5584c10d7641cf994f463a75b89923": {
          "model_module": "@jupyter-widgets/controls",
          "model_module_version": "1.5.0",
          "model_name": "DescriptionStyleModel",
          "state": {
            "_model_module": "@jupyter-widgets/controls",
            "_model_module_version": "1.5.0",
            "_model_name": "DescriptionStyleModel",
            "_view_count": null,
            "_view_module": "@jupyter-widgets/base",
            "_view_module_version": "1.2.0",
            "_view_name": "StyleView",
            "description_width": ""
          }
        },
        "aaeefebdd3554695830cc5c6671e7eaf": {
          "model_module": "@jupyter-widgets/controls",
          "model_module_version": "1.5.0",
          "model_name": "HTMLModel",
          "state": {
            "_dom_classes": [],
            "_model_module": "@jupyter-widgets/controls",
            "_model_module_version": "1.5.0",
            "_model_name": "HTMLModel",
            "_view_count": null,
            "_view_module": "@jupyter-widgets/controls",
            "_view_module_version": "1.5.0",
            "_view_name": "HTMLView",
            "description": "",
            "description_tooltip": null,
            "layout": "IPY_MODEL_8d0978a8057c439aad71a8f851f5a03b",
            "placeholder": "​",
            "style": "IPY_MODEL_ed52b26ec18d42f787c690ca1dd343d4",
            "value": "100%"
          }
        },
        "ae5d9982083748bcbfd2c42225122bc6": {
          "model_module": "@jupyter-widgets/controls",
          "model_module_version": "1.5.0",
          "model_name": "ProgressStyleModel",
          "state": {
            "_model_module": "@jupyter-widgets/controls",
            "_model_module_version": "1.5.0",
            "_model_name": "ProgressStyleModel",
            "_view_count": null,
            "_view_module": "@jupyter-widgets/base",
            "_view_module_version": "1.2.0",
            "_view_name": "StyleView",
            "bar_color": null,
            "description_width": ""
          }
        },
        "b82cb9f075404e0585dcc6c43aa47cee": {
          "model_module": "@jupyter-widgets/controls",
          "model_module_version": "1.5.0",
          "model_name": "ProgressStyleModel",
          "state": {
            "_model_module": "@jupyter-widgets/controls",
            "_model_module_version": "1.5.0",
            "_model_name": "ProgressStyleModel",
            "_view_count": null,
            "_view_module": "@jupyter-widgets/base",
            "_view_module_version": "1.2.0",
            "_view_name": "StyleView",
            "bar_color": null,
            "description_width": ""
          }
        },
        "c138f5d85e3640d690bf99ea6131ff88": {
          "model_module": "@jupyter-widgets/base",
          "model_module_version": "1.2.0",
          "model_name": "LayoutModel",
          "state": {
            "_model_module": "@jupyter-widgets/base",
            "_model_module_version": "1.2.0",
            "_model_name": "LayoutModel",
            "_view_count": null,
            "_view_module": "@jupyter-widgets/base",
            "_view_module_version": "1.2.0",
            "_view_name": "LayoutView",
            "align_content": null,
            "align_items": null,
            "align_self": null,
            "border": null,
            "bottom": null,
            "display": null,
            "flex": null,
            "flex_flow": null,
            "grid_area": null,
            "grid_auto_columns": null,
            "grid_auto_flow": null,
            "grid_auto_rows": null,
            "grid_column": null,
            "grid_gap": null,
            "grid_row": null,
            "grid_template_areas": null,
            "grid_template_columns": null,
            "grid_template_rows": null,
            "height": null,
            "justify_content": null,
            "justify_items": null,
            "left": null,
            "margin": null,
            "max_height": null,
            "max_width": null,
            "min_height": null,
            "min_width": null,
            "object_fit": null,
            "object_position": null,
            "order": null,
            "overflow": null,
            "overflow_x": null,
            "overflow_y": null,
            "padding": null,
            "right": null,
            "top": null,
            "visibility": null,
            "width": null
          }
        },
        "ca8dcd8154784bdb896a062733e6e0ae": {
          "model_module": "@jupyter-widgets/base",
          "model_module_version": "1.2.0",
          "model_name": "LayoutModel",
          "state": {
            "_model_module": "@jupyter-widgets/base",
            "_model_module_version": "1.2.0",
            "_model_name": "LayoutModel",
            "_view_count": null,
            "_view_module": "@jupyter-widgets/base",
            "_view_module_version": "1.2.0",
            "_view_name": "LayoutView",
            "align_content": null,
            "align_items": null,
            "align_self": null,
            "border": null,
            "bottom": null,
            "display": null,
            "flex": null,
            "flex_flow": null,
            "grid_area": null,
            "grid_auto_columns": null,
            "grid_auto_flow": null,
            "grid_auto_rows": null,
            "grid_column": null,
            "grid_gap": null,
            "grid_row": null,
            "grid_template_areas": null,
            "grid_template_columns": null,
            "grid_template_rows": null,
            "height": null,
            "justify_content": null,
            "justify_items": null,
            "left": null,
            "margin": null,
            "max_height": null,
            "max_width": null,
            "min_height": null,
            "min_width": null,
            "object_fit": null,
            "object_position": null,
            "order": null,
            "overflow": null,
            "overflow_x": null,
            "overflow_y": null,
            "padding": null,
            "right": null,
            "top": null,
            "visibility": null,
            "width": null
          }
        },
        "ccf33d7b59d74b4696b289bdf60cd21c": {
          "model_module": "@jupyter-widgets/base",
          "model_module_version": "1.2.0",
          "model_name": "LayoutModel",
          "state": {
            "_model_module": "@jupyter-widgets/base",
            "_model_module_version": "1.2.0",
            "_model_name": "LayoutModel",
            "_view_count": null,
            "_view_module": "@jupyter-widgets/base",
            "_view_module_version": "1.2.0",
            "_view_name": "LayoutView",
            "align_content": null,
            "align_items": null,
            "align_self": null,
            "border": null,
            "bottom": null,
            "display": null,
            "flex": null,
            "flex_flow": null,
            "grid_area": null,
            "grid_auto_columns": null,
            "grid_auto_flow": null,
            "grid_auto_rows": null,
            "grid_column": null,
            "grid_gap": null,
            "grid_row": null,
            "grid_template_areas": null,
            "grid_template_columns": null,
            "grid_template_rows": null,
            "height": null,
            "justify_content": null,
            "justify_items": null,
            "left": null,
            "margin": null,
            "max_height": null,
            "max_width": null,
            "min_height": null,
            "min_width": null,
            "object_fit": null,
            "object_position": null,
            "order": null,
            "overflow": null,
            "overflow_x": null,
            "overflow_y": null,
            "padding": null,
            "right": null,
            "top": null,
            "visibility": null,
            "width": null
          }
        },
        "d0fb8cb2beff405fb0bd0a1cb1460556": {
          "model_module": "@jupyter-widgets/controls",
          "model_module_version": "1.5.0",
          "model_name": "HTMLModel",
          "state": {
            "_dom_classes": [],
            "_model_module": "@jupyter-widgets/controls",
            "_model_module_version": "1.5.0",
            "_model_name": "HTMLModel",
            "_view_count": null,
            "_view_module": "@jupyter-widgets/controls",
            "_view_module_version": "1.5.0",
            "_view_name": "HTMLView",
            "description": "",
            "description_tooltip": null,
            "layout": "IPY_MODEL_44685f90339c415a9d389013475dd898",
            "placeholder": "​",
            "style": "IPY_MODEL_1ebc76d5c9144b36b153cae629f3e326",
            "value": "  0%"
          }
        },
        "d53b0db283a343e8bdff7aafdd9e7a93": {
          "model_module": "@jupyter-widgets/controls",
          "model_module_version": "1.5.0",
          "model_name": "HBoxModel",
          "state": {
            "_dom_classes": [],
            "_model_module": "@jupyter-widgets/controls",
            "_model_module_version": "1.5.0",
            "_model_name": "HBoxModel",
            "_view_count": null,
            "_view_module": "@jupyter-widgets/controls",
            "_view_module_version": "1.5.0",
            "_view_name": "HBoxView",
            "box_style": "",
            "children": [
              "IPY_MODEL_aaeefebdd3554695830cc5c6671e7eaf",
              "IPY_MODEL_6feab2458bac4523922725243e9958c9",
              "IPY_MODEL_0f04ce0432a147469d9e545bfba200fa"
            ],
            "layout": "IPY_MODEL_ef5c385b5ab3441a97c261d18a326ef6"
          }
        },
        "ed52b26ec18d42f787c690ca1dd343d4": {
          "model_module": "@jupyter-widgets/controls",
          "model_module_version": "1.5.0",
          "model_name": "DescriptionStyleModel",
          "state": {
            "_model_module": "@jupyter-widgets/controls",
            "_model_module_version": "1.5.0",
            "_model_name": "DescriptionStyleModel",
            "_view_count": null,
            "_view_module": "@jupyter-widgets/base",
            "_view_module_version": "1.2.0",
            "_view_name": "StyleView",
            "description_width": ""
          }
        },
        "ef5c385b5ab3441a97c261d18a326ef6": {
          "model_module": "@jupyter-widgets/base",
          "model_module_version": "1.2.0",
          "model_name": "LayoutModel",
          "state": {
            "_model_module": "@jupyter-widgets/base",
            "_model_module_version": "1.2.0",
            "_model_name": "LayoutModel",
            "_view_count": null,
            "_view_module": "@jupyter-widgets/base",
            "_view_module_version": "1.2.0",
            "_view_name": "LayoutView",
            "align_content": null,
            "align_items": null,
            "align_self": null,
            "border": null,
            "bottom": null,
            "display": null,
            "flex": null,
            "flex_flow": null,
            "grid_area": null,
            "grid_auto_columns": null,
            "grid_auto_flow": null,
            "grid_auto_rows": null,
            "grid_column": null,
            "grid_gap": null,
            "grid_row": null,
            "grid_template_areas": null,
            "grid_template_columns": null,
            "grid_template_rows": null,
            "height": null,
            "justify_content": null,
            "justify_items": null,
            "left": null,
            "margin": null,
            "max_height": null,
            "max_width": null,
            "min_height": null,
            "min_width": null,
            "object_fit": null,
            "object_position": null,
            "order": null,
            "overflow": null,
            "overflow_x": null,
            "overflow_y": null,
            "padding": null,
            "right": null,
            "top": null,
            "visibility": null,
            "width": null
          }
        },
        "f287ed983ba64f7b948b2047775aee0e": {
          "model_module": "@jupyter-widgets/controls",
          "model_module_version": "1.5.0",
          "model_name": "DescriptionStyleModel",
          "state": {
            "_model_module": "@jupyter-widgets/controls",
            "_model_module_version": "1.5.0",
            "_model_name": "DescriptionStyleModel",
            "_view_count": null,
            "_view_module": "@jupyter-widgets/base",
            "_view_module_version": "1.2.0",
            "_view_name": "StyleView",
            "description_width": ""
          }
        },
        "f3842c04c968430db2f2517584eafbaf": {
          "model_module": "@jupyter-widgets/controls",
          "model_module_version": "1.5.0",
          "model_name": "DescriptionStyleModel",
          "state": {
            "_model_module": "@jupyter-widgets/controls",
            "_model_module_version": "1.5.0",
            "_model_name": "DescriptionStyleModel",
            "_view_count": null,
            "_view_module": "@jupyter-widgets/base",
            "_view_module_version": "1.2.0",
            "_view_name": "StyleView",
            "description_width": ""
          }
        },
        "fa72588a7bfe4973bde9dc245deafea0": {
          "model_module": "@jupyter-widgets/controls",
          "model_module_version": "1.5.0",
          "model_name": "HTMLModel",
          "state": {
            "_dom_classes": [],
            "_model_module": "@jupyter-widgets/controls",
            "_model_module_version": "1.5.0",
            "_model_name": "HTMLModel",
            "_view_count": null,
            "_view_module": "@jupyter-widgets/controls",
            "_view_module_version": "1.5.0",
            "_view_name": "HTMLView",
            "description": "",
            "description_tooltip": null,
            "layout": "IPY_MODEL_29d4d506db474b709c994c2a2310da1b",
            "placeholder": "​",
            "style": "IPY_MODEL_9565ef752ee5413788c6f8d4f4e43cea",
            "value": " 400/400 [03:09&lt;00:00,  1.84it/s]"
          }
        },
        "ff063421e1b7481ba2e501639aefb9e6": {
          "model_module": "@jupyter-widgets/controls",
          "model_module_version": "1.5.0",
          "model_name": "HTMLModel",
          "state": {
            "_dom_classes": [],
            "_model_module": "@jupyter-widgets/controls",
            "_model_module_version": "1.5.0",
            "_model_name": "HTMLModel",
            "_view_count": null,
            "_view_module": "@jupyter-widgets/controls",
            "_view_module_version": "1.5.0",
            "_view_name": "HTMLView",
            "description": "",
            "description_tooltip": null,
            "layout": "IPY_MODEL_91187c496da349aab3bba2b9395a6246",
            "placeholder": "​",
            "style": "IPY_MODEL_aa5584c10d7641cf994f463a75b89923",
            "value": " 1600/1600 [13:03&lt;00:00,  2.13it/s]"
          }
        }
      }
    }
  },
  "nbformat": 4,
  "nbformat_minor": 0
}
